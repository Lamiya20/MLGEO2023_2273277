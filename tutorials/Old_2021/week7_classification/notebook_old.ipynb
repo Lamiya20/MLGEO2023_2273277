{
 "cells": [
  {
   "cell_type": "markdown",
   "id": "f237e62f-ba06-4e2b-b982-101dff306487",
   "metadata": {},
   "source": [
    "# Design your ML project\n",
    "\n",
    "\n",
    "## 1. **Frame the project**\n",
    "\n",
    "* Motivate the need for Machine Learning in your scientific project. \n",
    "\n",
    "Perform litterature review of the scientific outstanding questions and solutions proposed in the literature. What would be the steps to solve the problem manually? What are the limitations of the current solutions? Will a new ML algorithm be generalizable enough to be applied to 10+ other research problems? What is the 5-10 year potential of the particular problem given new technology, new research facility, new societal relevance? Are there comparable problems for which the tools can be reused?\n",
    "\n",
    "* What is the state of the data?\n",
    "\n",
    "Is there a lot of data, and labeled data? Is there human expertise available? Will this be a supervised or unsupervised learning problem? Can the data be accessed from open-access archives that meet FAIR guidelines? what would be its DOI?\n",
    "\n",
    "\n",
    "## 2. **Organize the project**\n",
    "\n",
    "Start a github, a readme, create an environment with a YML file, human and machine readible files and folder.  Make sure the project name has not been used before.\n",
    "\n",
    "## 3. **Download the data**\n",
    "\n",
    "List the data, data information, data labels, data provenance (including accessibility from open access data archives)? How large is the data? What data format would be optimal to be read across languages (python, C, R, matlab, julia etc), can it store metadata, how does it perform with I/O?\n",
    "\n",
    "Is the data geospatial, or time series?\n",
    "\n",
    "Find appropriate compute platform to storage and I/O of the data (cloud computing, institutional linux cluster etc).\n",
    "\n",
    "Create a jupyter notebook to document data download and storage.\n",
    "\n",
    "## 4. **Data preparation**\n",
    "\n",
    "\n",
    "* Explore the data \n",
    "\n",
    "create a jupyter notebook to preliminary data exploration. Document:\n",
    "- The name, the data type\n",
    "- The noise: what is the type of noise (stochastic, outliers etc, data gaps)\n",
    "- Data distribution: gaussian, uniform, logarithmic etc.\n",
    "- Data labels (or target attributes)\n",
    "\n",
    "\n",
    "Visualize a subset of the data.\n",
    "\n",
    "Study basic data correlations between attributes.\n",
    "\n",
    "How would you solve the problem manually given this data.\n",
    "\n",
    "Identify transformation that may be useful (such as STFT, CWT, PCA etc...)\n",
    "\n",
    "Save preliminary plots and notebooks. Document finding.\n",
    "\n",
    "* First data manipulation\n",
    "\n",
    "Copy the data and work on these copies.\n",
    "\n",
    "Write functions for all data transformation so that they can be automatically called (and easily debugged). These functions will be used for training, validating, and test sets.\n",
    "\n",
    "**Clean data**: fix or remove outliers, fill missing values (zero, mean median) or drop data (when too many data gaps for instance).\n",
    "Save the clean copy of the data in a different file.\n",
    "\n",
    "Avoid using toy, simple synthetic data. Try and use dataset that are collected from the real-world. The behavior of the algorithm may be completely different.\n",
    "\n",
    "* Feature preparation\n",
    "\n",
    "**Drop** attributes that are not useful for the task.\n",
    "\n",
    "**Transform** features (such as STFT, ...)\n",
    "\n",
    "Explore quick and promising features (e.g. PGA for ground motions)\n",
    "\n",
    "**Scale** the feature to standardize or normalize. ML algorithms will not perform well in most cases without normalization of the input feature or data. Scaling is not a requirement but it tends to improve the training behavior.\n",
    "+ *Min-max scaling*: removes the minimal value, then normalize by the maximum value of the distribution so that the amplitudes range between 0 and 1. It is appropriate when the features are positive numbers. The scikit-learn built in function ``sklearn.preprocessing.MinMaxScaler()`` performs:\n",
    "\n",
    "<code>X_std = (X - X.min(axis=0)) / (X.max(axis=0) - X.min(axis=0))</code>\n",
    "\n",
    "<code>X_scaled = X_std * (max - min) + min</code>\n",
    "Scikit learn has built in functions to do the scaling."
   ]
  },
  {
   "cell_type": "code",
   "execution_count": 107,
   "id": "6f808f67-dfd0-4939-8b14-4f61e6b35f7b",
   "metadata": {},
   "outputs": [
    {
     "name": "stdout",
     "output_type": "stream",
     "text": [
      "<class 'list'>\n",
      "[[-1, 2], [-0.5, 6], [0, 10], [1, 18]]\n",
      "<class 'numpy.ndarray'>\n",
      "[[0.   0.  ]\n",
      " [0.25 0.25]\n",
      " [0.5  0.5 ]\n",
      " [1.   1.  ]]\n",
      "[[0.   0.  ]\n",
      " [0.25 0.25]\n",
      " [0.5  0.5 ]\n",
      " [1.   1.  ]]\n"
     ]
    }
   ],
   "source": [
    "from sklearn.preprocessing import MinMaxScaler\n",
    "import numpy as np\n",
    "import matplotlib.pyplot as plt\n",
    "data = [[-1, 2], [-0.5, 6], [0, 10], [1, 18]]\n",
    "scaler = MinMaxScaler()\n",
    "scaler.fit(data)# fit the model for data normalization\n",
    "newdata = scaler.transform(data) # transform the data. watch that data was converted to a numpy array\n",
    "print(type(data))\n",
    "print(data)\n",
    "print(type(newdata))\n",
    "print(newdata)\n",
    "print(newdata)"
   ]
  },
  {
   "cell_type": "code",
   "execution_count": 108,
   "id": "4d6b668e-89d7-4659-8a57-07cc10d04180",
   "metadata": {},
   "outputs": [
    {
     "data": {
      "text/plain": [
       "(array([ 1.,  1.,  6., 11., 13., 23., 19., 16.,  6.,  4.]),\n",
       " array([0. , 0.1, 0.2, 0.3, 0.4, 0.5, 0.6, 0.7, 0.8, 0.9, 1. ]),\n",
       " <BarContainer object of 10 artists>)"
      ]
     },
     "execution_count": 108,
     "metadata": {},
     "output_type": "execute_result"
    },
    {
     "data": {
      "image/png": "[encoded data removed]",
      "text/plain": [
       "<Figure size 432x288 with 1 Axes>"
      ]
     },
     "metadata": {
      "needs_background": "light"
     },
     "output_type": "display_data"
    }
   ],
   "source": [
    "# another more direct way is to usee the fit_transform (instead of 2 successive functions)\n",
    "crap=10*np.random.randn(100)\n",
    "newdata = scaler.fit_transform(crap.reshape(-1, 1))\n",
    "plt.hist(crap)\n",
    "plt.hist(newdata)"
   ]
  },
  {
   "cell_type": "markdown",
   "id": "08d9ecd9-55fa-43c6-99c7-6dce0c91ed5a",
   "metadata": {},
   "source": [
    "+ *Standardization*: removes the mean and divide by the standard deviation. Output distribution does not have bounds. More stable that minmax because it is less sensitive to outliers. The scikit-learn built-in function is ````sklearn.preprocessing.StandardScaler()````\n",
    "\n",
    "There are other ways to normalize the input feature/data.\n",
    "https://scikit-learn.org/stable/modules/preprocessing.html#preprocessing\n",
    "\n",
    "\n",
    "\n",
    "\n",
    "## 5.  **Dimensionality reduction**\n",
    "\n",
    "Explore possible ways to reduce the dimension of the data. PCA, ICA, ...\n",
    "\n",
    "Document the data transformation with notebooks. Reassign data attributes/labels in the new coordinates.\n",
    "\n",
    "## 6. **Model design**\n",
    "\n",
    "Try several model algorithms. *No free lunch theorem* (Worlpert 1995), there is not such thing as the best learning algorithm. Instead, there is a data set where it is very accurate.\n",
    "\n",
    "Separate the data in 3 sets:\n",
    "\n",
    "- The training set (< 66% of data): data set used for training the algorithm\n",
    "- The validation set (< 33% of data): data set used to tune the model hyperparameters or help design the model structure.\n",
    "The pair of training and validation sets can be generated using cross-validation for training. Training the same algorithm multiple times with different training-validation sets and with different initial conditions allows to calculate the *expected error* of the learning algorithm, an average of all model estimate errors.\n",
    "- The test set (~=33%): data set to test model performance of the algorithm.\n",
    "\n",
    "The model should have the **minimum complexity** that is required to **minimize the model expected error**.\n",
    "\n",
    "## 7. **Model Training**\n",
    "\n",
    "Save intermediate results when possible.\n",
    "Save seeds of the random number generator to be able to reproduce the results.\n",
    "\n",
    "Avoid writing your own homewgrown library of codes. Use reliable sources.\n",
    "\n",
    "Provide good documentation, especially when working in groups.\n",
    "\n",
    "Start smaller than the final run. It is suggested that no more than 25% of the available resources should be used in the first model design.\n",
    "\n",
    "Select a performance measure. For *regression*, performance measures are based on residuals between the prediction and the data values. For *classification*, we will see below that it's a bit more elaborate.\n",
    "\n",
    "\n",
    "We will explore in later chapters strategies for training.\n",
    "\n"
   ]
  },
  {
   "cell_type": "markdown",
   "id": "2dfc3a0d-777c-4e95-b242-8c130d51bd3d",
   "metadata": {},
   "source": [
    "# Classification\n",
    "\n",
    "Problems that need a *quantitative* response (numeric value) are **regression** ; problems that need a *qualitative* response (boolean or categorie) are **classification**. *Binary* classification have two output classes. Many statistical methods can be applied to both types of problems.\n",
    "### #3. Data download"
   ]
  },
  {
   "cell_type": "code",
   "execution_count": 110,
   "id": "0751b154-6566-427a-bb55-824c3111e1d9",
   "metadata": {},
   "outputs": [
    {
     "data": {
      "text/plain": [
       "dict_keys(['data', 'target', 'frame', 'feature_names', 'target_names', 'images', 'DESCR'])"
      ]
     },
     "execution_count": 110,
     "metadata": {},
     "output_type": "execute_result"
    }
   ],
   "source": [
    "from sklearn.datasets import load_digits,fetch_openml\n",
    "digits = load_digits()\n",
    "digits.keys()"
   ]
  },
  {
   "cell_type": "markdown",
   "id": "9148193a-5847-4ce8-9a79-898a56f68ffb",
   "metadata": {},
   "source": [
    "The data is vector of floats. The target is an integer that is the attribute of the data. How are the data balanced between the classes? How many samples are there per class?"
   ]
  },
  {
   "cell_type": "code",
   "execution_count": 111,
   "id": "5e7bf0df-9471-40ec-a5d3-33e4b84bf915",
   "metadata": {},
   "outputs": [
    {
     "name": "stdout",
     "output_type": "stream",
     "text": [
      "<class 'numpy.ndarray'> <class 'numpy.int64'>\n",
      "[ 0.  0.  5. 13.  9.  1.  0.  0.  0.  0. 13. 15. 10. 15.  5.  0.  0.  3.\n",
      " 15.  2.  0. 11.  8.  0.  0.  4. 12.  0.  0.  8.  8.  0.  0.  5.  8.  0.\n",
      "  0.  9.  8.  0.  0.  4. 11.  0.  1. 12.  7.  0.  0.  2. 14.  5. 10. 12.\n",
      "  0.  0.  0.  0.  6. 13. 10.  0.  0.  0.]\n",
      "0\n",
      "15.0\n"
     ]
    }
   ],
   "source": [
    "# explore data type\n",
    "data,y = digits[\"data\"].copy(),digits[\"target\"].copy()\n",
    "print(type(data[0][:]),type(y[0]))\n",
    "print(data[0][:])\n",
    "print(y[0])\n",
    "print(max(data[0]))\n",
    "# note that we do not modify the raw data that is stored on the digits dictionary."
   ]
  },
  {
   "cell_type": "code",
   "execution_count": 112,
   "id": "f94a4683-d097-4da8-bd27-d804c0e80fb7",
   "metadata": {},
   "outputs": [
    {
     "data": {
      "text/plain": [
       "(array([178., 182., 177., 183., 181., 182., 181., 179., 174., 180.]),\n",
       " array([0. , 0.9, 1.8, 2.7, 3.6, 4.5, 5.4, 6.3, 7.2, 8.1, 9. ]),\n",
       " <BarContainer object of 10 artists>)"
      ]
     },
     "execution_count": 112,
     "metadata": {},
     "output_type": "execute_result"
    },
    {
     "data": {
      "image/png": "[encoded data removed]",
      "text/plain": [
       "<Figure size 432x288 with 1 Axes>"
      ]
     },
     "metadata": {
      "needs_background": "light"
     },
     "output_type": "display_data"
    }
   ],
   "source": [
    "# plot a histogram of the labels to see the balancing of the data among the classes.\n",
    "plt.hist(y)"
   ]
  },
  {
   "cell_type": "markdown",
   "id": "24eea66f-d3bf-48f6-aa3e-5d7c0b92586e",
   "metadata": {},
   "source": [
    " **how many classes are there?**\n",
    " Since the classes are integers, we can count the number of classes using the function \"unique\""
   ]
  },
  {
   "cell_type": "code",
   "execution_count": 114,
   "id": "07a1ecff-34cf-4cce-bf99-3787d51b466b",
   "metadata": {},
   "outputs": [
    {
     "name": "stdout",
     "output_type": "stream",
     "text": [
      "[0 1 2 3 4 5 6 7 8 9]\n",
      "10\n"
     ]
    }
   ],
   "source": [
    "Nclasses = len(np.unique(y))\n",
    "print(np.unique(y))\n",
    "print(Nclasses)"
   ]
  },
  {
   "cell_type": "markdown",
   "id": "e37e39ff-6ba5-44e3-909c-0112f8c9f1cd",
   "metadata": {},
   "source": [
    "### #4. Data preparation\n",
    "First print and plot the data."
   ]
  },
  {
   "cell_type": "code",
   "execution_count": 115,
   "id": "3f1f78a0-23e9-41ee-8ed6-b58a2b557129",
   "metadata": {},
   "outputs": [
    {
     "data": {
      "image/png": "[encoded data removed]",
      "text/plain": [
       "<Figure size 720x216 with 4 Axes>"
      ]
     },
     "metadata": {
      "needs_background": "light"
     },
     "output_type": "display_data"
    }
   ],
   "source": [
    "# plot the data\n",
    "import matplotlib.pyplot as plt\n",
    "# plot the first 4 data and their labels.\n",
    "_, axes = plt.subplots(nrows=1, ncols=4, figsize=(10, 3))\n",
    "for ax, image, label in zip(axes, digits.images, digits.target):\n",
    "    ax.set_axis_off()\n",
    "    ax.imshow(image, cmap=plt.cm.gray_r, interpolation='nearest')\n",
    "    ax.set_title('Training: %i' % label)"
   ]
  },
  {
   "cell_type": "markdown",
   "id": "306f80dd-f3b9-4d7b-a5dd-b7d581947017",
   "metadata": {},
   "source": [
    "We look at it and there is little noise and no gap. It's a nicely curated data set. I wish there were more of that for geosciences. Give us some pingos!"
   ]
  },
  {
   "cell_type": "markdown",
   "id": "5b34c283-6190-417b-afae-13516867f8f6",
   "metadata": {},
   "source": [
    "### Data re-scaling\n",
    "We could use MinMaxScaler from sklearn.preprocessing but since the formula for that is (x-min)/(max-min) and our min is 0, we could directly calculate x/max.\n",
    "(notes from https://www.kaggle.com/recepinanc/mnist-classification-sklearn)\n",
    "Note that the raw data is still stored in the dictionary ``digits`` and so we can modify the ``data`` variable in place."
   ]
  },
  {
   "cell_type": "code",
   "execution_count": 117,
   "id": "6d086c50-a54e-488d-8b33-b939e34ab8b6",
   "metadata": {},
   "outputs": [
    {
     "name": "stdout",
     "output_type": "stream",
     "text": [
      "0.0 15.0\n",
      "<class 'numpy.ndarray'>\n",
      "[[0.     0.     0.3125 ... 0.     0.     0.    ]\n",
      " [0.     0.     0.     ... 0.625  0.     0.    ]\n",
      " [0.     0.     0.     ... 1.     0.5625 0.    ]\n",
      " ...\n",
      " [0.     0.     0.0625 ... 0.375  0.     0.    ]\n",
      " [0.     0.     0.125  ... 0.75   0.     0.    ]\n",
      " [0.     0.     0.625  ... 0.75   0.0625 0.    ]]\n"
     ]
    }
   ],
   "source": [
    "print(min(data[0]),max(data[0]))\n",
    "from sklearn.preprocessing import MinMaxScaler\n",
    "scaler = MinMaxScaler()\n",
    "scaler.fit_transform(data)# fit the model for data normalization\n",
    "newdata = scaler.transform(data) # transform the data. watch that data was converted to a numpy array\n",
    "print(type(newdata))\n",
    "print(newdata)"
   ]
  },
  {
   "cell_type": "markdown",
   "id": "8c9b2c0b-8eca-46ce-864e-a5b41aa4bf4f",
   "metadata": {},
   "source": [
    "### Train-test split"
   ]
  },
  {
   "cell_type": "code",
   "execution_count": 122,
   "id": "b73c983d-97ec-4554-ba9f-718ff48b5606",
   "metadata": {},
   "outputs": [
    {
     "name": "stdout",
     "output_type": "stream",
     "text": [
      "There are 1797 data samples\n"
     ]
    }
   ],
   "source": [
    "# Split data into 50% train and 50% test subsets\n",
    "from sklearn.model_selection import train_test_split\n",
    "print(f\"There are {data.shape[0]} data samples\")\n",
    "X_train, X_test, y_train, y_test = train_test_split(\n",
    "    newdata, y, test_size=0.5, shuffle=False)\n"
   ]
  },
  {
   "cell_type": "markdown",
   "id": "07968685-de62-47ad-ad9e-f507b8f257ae",
   "metadata": {},
   "source": [
    "### Model design\n",
    "\n",
    "Here we will use several well known classifiers: Support Vector Machine, k-nearest neighbors, Stochastic Gradient Descent"
   ]
  },
  {
   "cell_type": "code",
   "execution_count": 123,
   "id": "aed564bd-be4a-45a5-b94b-245d5d23406c",
   "metadata": {},
   "outputs": [
    {
     "name": "stdout",
     "output_type": "stream",
     "text": [
      "SVC Accuracy: 0.3359288097886541\n",
      "K-nearest Neighbors Accuracy: 0.9555061179087876\n",
      "Random Forest Accuracy: 0.92880978865406\n"
     ]
    },
    {
     "name": "stderr",
     "output_type": "stream",
     "text": [
      "[Parallel(n_jobs=1)]: Using backend SequentialBackend with 1 concurrent workers.\n",
      "[Parallel(n_jobs=1)]: Done 100 out of 100 | elapsed:    0.2s finished\n",
      "[Parallel(n_jobs=1)]: Using backend SequentialBackend with 1 concurrent workers.\n",
      "[Parallel(n_jobs=1)]: Done 100 out of 100 | elapsed:    0.0s finished\n"
     ]
    }
   ],
   "source": [
    "import sklearn\n",
    "from sklearn import metrics\n",
    "from sklearn.svm import SVC\n",
    "from sklearn.neighbors import KNeighborsClassifier\n",
    "from sklearn.ensemble import RandomForestClassifier\n",
    "\n",
    "# Support Vector Machine classifier\n",
    "clf = SVC(gamma=0.001) # model design\n",
    "clf.fit(X_train, y_train) # learn\n",
    "svc_prediction = clf.predict(X_test) # predict on test\n",
    "print(\"SVC Accuracy:\", metrics.accuracy_score(y_true=y_test ,y_pred=svc_prediction))\n",
    "\n",
    "# K-nearest Neighbors\n",
    "knn_clf = KNeighborsClassifier() # model design\n",
    "knn_clf.fit(X_train, y_train) # learn\n",
    "knn_prediction = knn_clf.predict(X_test) # predict on test\n",
    "print(\"K-nearest Neighbors Accuracy:\", metrics.accuracy_score(y_true=y_test ,y_pred=knn_prediction))\n",
    "\n",
    "# Random Forest\n",
    "rf_clf = RandomForestClassifier(random_state=42, verbose=True) # model design\n",
    "rf_clf.fit(X_train, y_train)# learn\n",
    "rf_prediction = rf_clf.predict(X_test) # predict on test\n",
    "print(\"Random Forest Accuracy:\", metrics.accuracy_score(y_true=y_test ,y_pred=rf_prediction))"
   ]
  },
  {
   "cell_type": "code",
   "execution_count": 125,
   "id": "10b9b1b1-47be-43c8-9048-c992a205f9de",
   "metadata": {},
   "outputs": [
    {
     "data": {
      "image/png": "[encoded data removed]",
      "text/plain": [
       "<Figure size 720x216 with 4 Axes>"
      ]
     },
     "metadata": {
      "needs_background": "light"
     },
     "output_type": "display_data"
    }
   ],
   "source": [
    "_, axes = plt.subplots(nrows=1, ncols=4, figsize=(10, 3))\n",
    "for ax, image, prediction in zip(axes, X_test, rf_prediction):\n",
    "    ax.set_axis_off()\n",
    "    image = image.reshape(8, 8)\n",
    "    ax.imshow(image, cmap=plt.cm.gray_r, interpolation='nearest')\n",
    "    ax.set_title(f'Prediction: {prediction}')"
   ]
  },
  {
   "cell_type": "markdown",
   "id": "a4ed4b70-5e28-45c1-8bbc-d7926603d142",
   "metadata": {},
   "source": [
    "## Classifier Performance\n",
    "\n",
    "Confusion matrix:\n",
    "Count the instances that an element of class *A* is classified in class *B*. A 2-class confusion matrix looks like this:\n",
    "\n",
    "| True Class      | Positive            | Negative           | Total |\n",
    "|  -------------  |  -----------------  |  --------------- | ----- |\n",
    "| Positive        | True positive: tp   | False negative: fn | p     |\n",
    "| Negative        | False positive: fp  | True negative: tn  | n     |\n",
    "| **Total**       | p'                  | n'                 | N     |\n",
    "\n",
    "This can be extended for a multi-class classification and the matrix is KxK instead of 2x2. The best confusion matrix is one that is close to identity, with little off diagnoal terms.\n",
    "Model peformance can be assessed wih the following:\n",
    "* error = (fp+fn)/N --> 0\n",
    "* accuracy = (tp + tn)/N = 1 - error --> 1\n",
    "* tp-rate = tp/p --> 1\n",
    "* fp-rate = fp/n --> 0\n",
    "* precision =  tp/p' = tp / (tp + fp) --> 1 (but it ignores the performance in retrieving tn)\n",
    "* recall = tp/p = tp-rate = tp / (tp + fn) --> 1 (but it ignores the fact that bad values can be retrieve)\n",
    "* sensitivity = tp/p = tp-rate \n",
    "* specificity = tn/n = 1 -fp-rate (how well do we retrieve the negatives)\n",
    "* F1 score = 2 / (1/ precision + 1/recall) = tp / (tp + (fn+fp)/2) --> 1.\n",
    "The harmonic mean of the F1 scores gives more weight to low values. F1 score is thus high if both recall and precision are high."
   ]
  },
  {
   "cell_type": "code",
   "execution_count": 126,
   "id": "fabc33dd-91ae-4463-aa0e-1302a165ac4e",
   "metadata": {},
   "outputs": [
    {
     "name": "stdout",
     "output_type": "stream",
     "text": [
      "Support Vector Machine\n",
      "Classification report for classifier SVC(gamma=0.001):\n",
      "              precision    recall  f1-score   support\n",
      "\n",
      "           0       0.86      0.91      0.88        88\n",
      "           1       0.26      0.35      0.30        91\n",
      "           2       0.00      0.00      0.00        86\n",
      "           3       0.16      1.00      0.28        91\n",
      "           4       0.00      0.00      0.00        92\n",
      "           5       0.73      0.24      0.36        91\n",
      "           6       0.97      0.82      0.89        91\n",
      "           7       1.00      0.02      0.04        89\n",
      "           8       0.00      0.00      0.00        88\n",
      "           9       0.00      0.00      0.00        92\n",
      "\n",
      "    accuracy                           0.34       899\n",
      "   macro avg       0.40      0.33      0.28       899\n",
      "weighted avg       0.40      0.34      0.28       899\n",
      "\n",
      "\n"
     ]
    },
    {
     "name": "stderr",
     "output_type": "stream",
     "text": [
      "/Users/marinedenolle/opt/anaconda3/envs/uwdsgeo/lib/python3.9/site-packages/sklearn/metrics/_classification.py:1248: UndefinedMetricWarning: Precision and F-score are ill-defined and being set to 0.0 in labels with no predicted samples. Use `zero_division` parameter to control this behavior.\n",
      "  _warn_prf(average, modifier, msg_start, len(result))\n",
      "/Users/marinedenolle/opt/anaconda3/envs/uwdsgeo/lib/python3.9/site-packages/sklearn/metrics/_classification.py:1248: UndefinedMetricWarning: Precision and F-score are ill-defined and being set to 0.0 in labels with no predicted samples. Use `zero_division` parameter to control this behavior.\n",
      "  _warn_prf(average, modifier, msg_start, len(result))\n",
      "/Users/marinedenolle/opt/anaconda3/envs/uwdsgeo/lib/python3.9/site-packages/sklearn/metrics/_classification.py:1248: UndefinedMetricWarning: Precision and F-score are ill-defined and being set to 0.0 in labels with no predicted samples. Use `zero_division` parameter to control this behavior.\n",
      "  _warn_prf(average, modifier, msg_start, len(result))\n"
     ]
    },
    {
     "name": "stdout",
     "output_type": "stream",
     "text": [
      "Confusion matrix:\n",
      "[[80  0  0  8  0  0  0  0  0  0]\n",
      " [ 0 32  7 51  0  1  0  0  0  0]\n",
      " [ 0  0  0 86  0  0  0  0  0  0]\n",
      " [ 0  0  0 91  0  0  0  0  0  0]\n",
      " [13 66  0  5  0  6  2  0  0  0]\n",
      " [ 0  0  0 69  0 22  0  0  0  0]\n",
      " [ 0 11  5  0  0  0 75  0  0  0]\n",
      " [ 0  8  0 79  0  0  0  2  0  0]\n",
      " [ 0  6  0 82  0  0  0  0  0  0]\n",
      " [ 0  0  0 91  0  1  0  0  0  0]]\n"
     ]
    },
    {
     "data": {
      "image/png": "[encoded data removed]",
      "text/plain": [
       "<Figure size 432x288 with 2 Axes>"
      ]
     },
     "metadata": {
      "needs_background": "light"
     },
     "output_type": "display_data"
    }
   ],
   "source": [
    "print(\"Support Vector Machine\")\n",
    "print(f\"Classification report for classifier {clf}:\\n\"\n",
    "      f\"{metrics.classification_report(y_test, svc_prediction)}\\n\")\n",
    "disp = metrics.plot_confusion_matrix(clf, X_test, y_test)\n",
    "disp.figure_.suptitle(\"Confusion Matrix\")\n",
    "print(f\"Confusion matrix:\\n{disp.confusion_matrix}\")\n",
    "plt.show()"
   ]
  },
  {
   "cell_type": "code",
   "execution_count": 127,
   "id": "d2c34db6-52e8-49bb-a692-5cb1f082bf56",
   "metadata": {},
   "outputs": [
    {
     "name": "stdout",
     "output_type": "stream",
     "text": [
      "K-nearest neighbors\n",
      "Classification report for classifier KNeighborsClassifier():\n",
      "              precision    recall  f1-score   support\n",
      "\n",
      "           0       0.99      1.00      0.99        88\n",
      "           1       0.95      0.98      0.96        91\n",
      "           2       0.98      0.93      0.95        86\n",
      "           3       0.89      0.90      0.90        91\n",
      "           4       1.00      0.95      0.97        92\n",
      "           5       0.96      0.98      0.97        91\n",
      "           6       0.99      1.00      0.99        91\n",
      "           7       0.95      1.00      0.97        89\n",
      "           8       0.95      0.90      0.92        88\n",
      "           9       0.91      0.92      0.92        92\n",
      "\n",
      "    accuracy                           0.96       899\n",
      "   macro avg       0.96      0.96      0.96       899\n",
      "weighted avg       0.96      0.96      0.96       899\n",
      "\n",
      "\n",
      "Confusion matrix:\n",
      "[[88  0  0  0  0  0  0  0  0  0]\n",
      " [ 0 89  0  0  0  0  0  0  1  1]\n",
      " [ 1  0 80  5  0  0  0  0  0  0]\n",
      " [ 0  0  1 82  0  2  0  3  2  1]\n",
      " [ 0  0  0  0 87  0  0  1  0  4]\n",
      " [ 0  0  0  0  0 89  1  0  0  1]\n",
      " [ 0  0  0  0  0  0 91  0  0  0]\n",
      " [ 0  0  0  0  0  0  0 89  0  0]\n",
      " [ 0  5  1  1  0  0  0  1 79  1]\n",
      " [ 0  0  0  4  0  2  0  0  1 85]]\n"
     ]
    },
    {
     "data": {
      "image/png": "[encoded data removed]",
      "text/plain": [
       "<Figure size 432x288 with 2 Axes>"
      ]
     },
     "metadata": {
      "needs_background": "light"
     },
     "output_type": "display_data"
    }
   ],
   "source": [
    "print(\"K-nearest neighbors\")\n",
    "print(f\"Classification report for classifier {knn_clf}:\\n\"\n",
    "      f\"{metrics.classification_report(y_test, knn_prediction)}\\n\")\n",
    "disp = metrics.plot_confusion_matrix(knn_clf, X_test, y_test)\n",
    "disp.figure_.suptitle(\"Confusion Matrix\")\n",
    "print(f\"Confusion matrix:\\n{disp.confusion_matrix}\")\n",
    "plt.show()"
   ]
  },
  {
   "cell_type": "code",
   "execution_count": 128,
   "id": "a75ca81d-e55b-487e-9577-3ffbaa124035",
   "metadata": {},
   "outputs": [
    {
     "name": "stdout",
     "output_type": "stream",
     "text": [
      "Random Forest\n",
      "Classification report for classifier RandomForestClassifier(random_state=42, verbose=True):\n",
      "              precision    recall  f1-score   support\n",
      "\n",
      "           0       0.97      0.99      0.98        88\n",
      "           1       0.95      0.89      0.92        91\n",
      "           2       1.00      0.90      0.94        86\n",
      "           3       0.87      0.84      0.85        91\n",
      "           4       0.99      0.91      0.95        92\n",
      "           5       0.91      0.96      0.93        91\n",
      "           6       0.98      1.00      0.99        91\n",
      "           7       0.93      0.98      0.95        89\n",
      "           8       0.88      0.90      0.89        88\n",
      "           9       0.84      0.93      0.89        92\n",
      "\n",
      "    accuracy                           0.93       899\n",
      "   macro avg       0.93      0.93      0.93       899\n",
      "weighted avg       0.93      0.93      0.93       899\n",
      "\n",
      "\n",
      "Confusion matrix:\n",
      "[[87  0  0  0  1  0  0  0  0  0]\n",
      " [ 0 81  0  2  0  1  0  0  0  7]\n",
      " [ 1  0 77  6  0  0  0  0  0  2]\n",
      " [ 0  1  0 76  0  3  0  3  7  1]\n",
      " [ 2  0  0  0 84  0  1  3  0  2]\n",
      " [ 0  0  0  0  0 87  1  0  0  3]\n",
      " [ 0  0  0  0  0  0 91  0  0  0]\n",
      " [ 0  0  0  0  0  0  0 87  2  0]\n",
      " [ 0  3  0  1  0  3  0  1 79  1]\n",
      " [ 0  0  0  2  0  2  0  0  2 86]]\n"
     ]
    },
    {
     "name": "stderr",
     "output_type": "stream",
     "text": [
      "[Parallel(n_jobs=1)]: Using backend SequentialBackend with 1 concurrent workers.\n",
      "[Parallel(n_jobs=1)]: Done 100 out of 100 | elapsed:    0.0s finished\n"
     ]
    },
    {
     "data": {
      "image/png": "[encoded data removed]",
      "text/plain": [
       "<Figure size 432x288 with 2 Axes>"
      ]
     },
     "metadata": {
      "needs_background": "light"
     },
     "output_type": "display_data"
    }
   ],
   "source": [
    "print(\"Random Forest\")\n",
    "print(f\"Classification report for classifier {rf_clf}:\\n\"\n",
    "      f\"{metrics.classification_report(y_test, rf_prediction)}\\n\")\n",
    "disp = metrics.plot_confusion_matrix(rf_clf, X_test, y_test)\n",
    "disp.figure_.suptitle(\"Confusion Matrix\")\n",
    "print(f\"Confusion matrix:\\n{disp.confusion_matrix}\")\n",
    "plt.show()"
   ]
  },
  {
   "cell_type": "markdown",
   "id": "269ad974-bf14-4d70-8b38-6ac123e53718",
   "metadata": {},
   "source": [
    "## Other performance metrics (TO BE FINISHED WEDNESDAY)\n",
    "\n",
    "*ROC* is the receiver operating characteristics curve.\n",
    "\n",
    "The ROC curve is visual, but we can quantify the classifier performance using the *area under the curve* (aka AUC). Ideally, AUC is 1.\n",
    "\n",
    "<div>\n",
    "<img src=\"roc-curve-v2-glassbox.png\" width=\"500\"/>\n",
    "</div>\n",
    "[source: https://commons.wikimedia.org/wiki/File:Roc-draft-xkcd-style.svg]"
   ]
  },
  {
   "cell_type": "code",
   "execution_count": 91,
   "id": "51b8d197-950f-4863-83c2-345bf078cbea",
   "metadata": {},
   "outputs": [],
   "source": [
    "from sklearn.metrics import roc_curve,roc_auc_score"
   ]
  },
  {
   "cell_type": "code",
   "execution_count": 103,
   "id": "6d3511fe-308a-4a29-ae5b-61caac356fb7",
   "metadata": {},
   "outputs": [
    {
     "ename": "IndexError",
     "evalue": "too many indices for array: array is 1-dimensional, but 2 were indexed",
     "output_type": "error",
     "traceback": [
      "\u001b[0;31m---------------------------------------------------------------------------\u001b[0m",
      "\u001b[0;31mIndexError\u001b[0m                                Traceback (most recent call last)",
      "\u001b[0;32m<ipython-input-103-56837f6824b2>\u001b[0m in \u001b[0;36m<module>\u001b[0;34m\u001b[0m\n\u001b[1;32m      6\u001b[0m \u001b[0mroc_auc\u001b[0m \u001b[0;34m=\u001b[0m \u001b[0mdict\u001b[0m\u001b[0;34m(\u001b[0m\u001b[0;34m)\u001b[0m\u001b[0;34m\u001b[0m\u001b[0;34m\u001b[0m\u001b[0m\n\u001b[1;32m      7\u001b[0m \u001b[0;32mfor\u001b[0m \u001b[0mi\u001b[0m \u001b[0;32min\u001b[0m \u001b[0mrange\u001b[0m\u001b[0;34m(\u001b[0m\u001b[0mNclasses\u001b[0m\u001b[0;34m)\u001b[0m\u001b[0;34m:\u001b[0m\u001b[0;34m\u001b[0m\u001b[0;34m\u001b[0m\u001b[0m\n\u001b[0;32m----> 8\u001b[0;31m     \u001b[0mfpr\u001b[0m\u001b[0;34m[\u001b[0m\u001b[0mi\u001b[0m\u001b[0;34m]\u001b[0m\u001b[0;34m,\u001b[0m \u001b[0mtpr\u001b[0m\u001b[0;34m[\u001b[0m\u001b[0mi\u001b[0m\u001b[0;34m]\u001b[0m\u001b[0;34m,\u001b[0m \u001b[0m_\u001b[0m \u001b[0;34m=\u001b[0m \u001b[0mroc_curve\u001b[0m\u001b[0;34m(\u001b[0m\u001b[0my_test\u001b[0m\u001b[0;34m[\u001b[0m\u001b[0;34m:\u001b[0m\u001b[0;34m,\u001b[0m \u001b[0mi\u001b[0m\u001b[0;34m]\u001b[0m\u001b[0;34m,\u001b[0m \u001b[0my_score\u001b[0m\u001b[0;34m[\u001b[0m\u001b[0;34m:\u001b[0m\u001b[0;34m,\u001b[0m \u001b[0mi\u001b[0m\u001b[0;34m]\u001b[0m\u001b[0;34m)\u001b[0m\u001b[0;34m\u001b[0m\u001b[0;34m\u001b[0m\u001b[0m\n\u001b[0m\u001b[1;32m      9\u001b[0m     \u001b[0mroc_auc\u001b[0m\u001b[0;34m[\u001b[0m\u001b[0mi\u001b[0m\u001b[0;34m]\u001b[0m \u001b[0;34m=\u001b[0m \u001b[0mauc\u001b[0m\u001b[0;34m(\u001b[0m\u001b[0mfpr\u001b[0m\u001b[0;34m[\u001b[0m\u001b[0mi\u001b[0m\u001b[0;34m]\u001b[0m\u001b[0;34m,\u001b[0m \u001b[0mtpr\u001b[0m\u001b[0;34m[\u001b[0m\u001b[0mi\u001b[0m\u001b[0;34m]\u001b[0m\u001b[0;34m)\u001b[0m\u001b[0;34m\u001b[0m\u001b[0;34m\u001b[0m\u001b[0m\n\u001b[1;32m     10\u001b[0m \u001b[0;34m\u001b[0m\u001b[0m\n",
      "\u001b[0;31mIndexError\u001b[0m: too many indices for array: array is 1-dimensional, but 2 were indexed"
     ]
    }
   ],
   "source": [
    "y_score = clf.fit(X_train, y_train).decision_function(X_test)\n",
    "\n",
    "# Compute ROC curve and ROC area for each class\n",
    "fpr = dict()\n",
    "tpr = dict()\n",
    "roc_auc = dict()\n",
    "for i in range(Nclasses):\n",
    "    fpr[i], tpr[i], _ = roc_curve(y_test[:, i], y_score[:, i])\n",
    "    roc_auc[i] = auc(fpr[i], tpr[i])\n",
    "\n",
    "# Compute micro-average ROC curve and ROC area\n",
    "fpr[\"micro\"], tpr[\"micro\"], _ = roc_curve(y_test.ravel(), y_score.ravel())\n",
    "roc_auc[\"micro\"] = auc(fpr[\"micro\"], tpr[\"micro\"])"
   ]
  },
  {
   "cell_type": "code",
   "execution_count": null,
   "id": "b61aee5c-b10a-4661-a724-4edf56b4c140",
   "metadata": {},
   "outputs": [],
   "source": []
  }
 ],
 "metadata": {
  "kernelspec": {
   "display_name": "Python 3",
   "language": "python",
   "name": "python3"
  },
  "language_info": {
   "codemirror_mode": {
    "name": "ipython",
    "version": 3
   },
   "file_extension": ".py",
   "mimetype": "text/x-python",
   "name": "python",
   "nbconvert_exporter": "python",
   "pygments_lexer": "ipython3",
   "version": "3.7.10"
  }
 },
 "nbformat": 4,
 "nbformat_minor": 5
}
