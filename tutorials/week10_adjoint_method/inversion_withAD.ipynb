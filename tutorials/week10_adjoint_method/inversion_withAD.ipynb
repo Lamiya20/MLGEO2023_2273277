{
 "cells": [
  {
   "cell_type": "markdown",
   "id": "e220fcdb-24b8-462b-a24e-824b63c60c6f",
   "metadata": {},
   "source": [
    "# Inversion with automatic differentation"
   ]
  },
  {
   "cell_type": "markdown",
   "id": "5f115bb6-24f9-4f3e-a79f-6ffee2d7e797",
   "metadata": {},
   "source": [
    "_The forward problem:_ We know the source function $f(t)$ and the properties of the rock medium where the seismic wave propagates $\\rho$ and $V_S$. We want to model numerically the waveforms of the seismograms that will be observed at the receivers.\n",
    "\n",
    "For that, we solve the seismic wave equation (here in 1D):\n",
    "\n",
    "$\\rho \\frac{\\partial v}{\\partial t} = \\frac{\\partial s}{\\partial x} + f(x)$ and $\\frac{\\partial s}{\\partial t} = \\mu \\frac{\\partial v}{\\partial x}$\n",
    "\n",
    "where $v$ is the velocity, $s$ is the stress, $x$ is the direction of propagation, $t$ is the time, and $\\mu = \\rho V_S^2$ is the shear modulus."
   ]
  },
  {
   "cell_type": "markdown",
   "id": "37707984-8234-4707-8419-3471a3d7e7ba",
   "metadata": {},
   "source": [
    "_The inverse problem:_ We know the source function $f(t)$ and the seismograms at some receivers $d(x_{ir}, t)$ for some $x_{ir}$ with $ir = 1 , \\cdots , nr$. We want to guess what are the values of $\\rho$ and $V_S$.\n",
    "\n",
    "For that, we define a loss function:\n",
    "\n",
    "$J = \\frac{1}{2} \\sum_{ir = 1}^{nr} \\sum_{it = 1}^{nt} (v(x_{ir}, t) - d(x_{ir}, t))^2$\n",
    "\n",
    "At the beginning, we choose initial values $\\rho_0$ and $V_{S 0}$ and we compute the corresponding values of the velocity $v(x_{ir}, t)$ using forward modeling. We compute the corresponding value of the loss function, and the gradient of the loss function with respect to the rock properties $\\frac{\\partial J}{\\partial \\rho}$ and $\\frac{\\partial J}{\\partial \\mu}$. We use the gradient descent method to update the values of $\\rho$ and $V_S$ and we continue until the loss $J(\\rho, V_S)$ is small enough.\n",
    "\n",
    "As we mainly need to compute a gradient, we can use automatic differentiation and PyTorch to do that."
   ]
  },
  {
   "cell_type": "markdown",
   "id": "978adbd5-a781-4fe1-813d-59d73157e1ae",
   "metadata": {},
   "source": [
    "Import Python modules."
   ]
  },
  {
   "cell_type": "code",
   "execution_count": 1,
   "id": "6e4ba36e-bcbc-444e-8855-0437a29fa696",
   "metadata": {},
   "outputs": [],
   "source": [
    "import matplotlib.pyplot as plt\n",
    "import numpy as np\n",
    "import torch\n",
    "from math import pi\n",
    "from scipy.signal import butter, lfilter"
   ]
  },
  {
   "cell_type": "markdown",
   "id": "4fee517d-daee-4e18-a8dd-67277e74ee63",
   "metadata": {},
   "source": [
    "Define the properties of the model."
   ]
  },
  {
   "cell_type": "code",
   "execution_count": 2,
   "id": "5a70c2f8-894d-4e47-9583-e61af12a3fb5",
   "metadata": {},
   "outputs": [],
   "source": [
    "# Size of the model\n",
    "N = 200\n",
    "dx = 100.0\n",
    "dt = 0.01\n",
    "T = 400\n",
    "# Rock properties\n",
    "rho = 2500.0\n",
    "# Source\n",
    "f = np.sin(2 * pi * np.arange(start=0, step=dt, stop=1 + dt))\n",
    "x0 = 81\n",
    "# Receivers\n",
    "x = [91, 101, 111, 121]"
   ]
  },
  {
   "cell_type": "markdown",
   "id": "e8f184d4-b4c8-4a4b-a4e6-ac847f15bca4",
   "metadata": {},
   "source": [
    "We are going to compute synthetics seismograms. Here is the function to do forward modeling:"
   ]
  },
  {
   "cell_type": "code",
   "execution_count": 3,
   "id": "75d7121b-e000-4a2a-aa71-8eb55157668e",
   "metadata": {},
   "outputs": [],
   "source": [
    "def forward(N, dx, T, dt, rho, mu, f, x0, x):\n",
    "    # Initialization\n",
    "    obs = np.zeros((T, len(x)))\n",
    "    v = np.zeros(N + 3)\n",
    "    s = np.zeros(N + 4)\n",
    "    # Loop on time\n",
    "    for i in range(0, T):\n",
    "        # Compute stress\n",
    "        ds = 1.0e10 * mu[2 : (N + 2)] * ((9.0 / 8.0) * (v[2 : (N + 2)] - v[1 : (N + 1)]) - \\\n",
    "                                        (1.0 / 24.0) * (v[3 : (N + 3)] - v[0 : N])) / dx\n",
    "        s[2 : (N + 2)] = s[2 : (N + 2)] + ds * dt\n",
    "        # Boundary condition (reflection)\n",
    "        s[1] = - s[2]\n",
    "        s[0] = - s[3]\n",
    "        s[N + 2] = - s[N + 1]\n",
    "        s[N + 3] = - s[N]\n",
    "        # Compute velocity\n",
    "        dv = (1.0 / rho) * ((9.0 / 8.0) * (s[2 : (N + 3)] - s[1 : (N + 2)]) - \\\n",
    "                           (1.0 / 24.0) * (s[3 : (N + 4)] - s[0 : (N + 1)])) / dx\n",
    "        v[1 : (N + 2)] = v[1 : (N + 2)] + dv * dt\n",
    "        # Add force\n",
    "        if i < len(f):\n",
    "            v[x0] = v[x0] + f[i]\n",
    "        # Receivers\n",
    "        for j in range(0, len(x)):\n",
    "            obs[i, j] = v[x[j]]\n",
    "    return obs"
   ]
  },
  {
   "cell_type": "markdown",
   "id": "1d4c7590-6a3b-47ee-8acf-101b75d209e8",
   "metadata": {},
   "source": [
    "We choose a velocity model."
   ]
  },
  {
   "cell_type": "code",
   "execution_count": 4,
   "id": "baf51dc9-881e-4ce1-973d-28e25d72ef19",
   "metadata": {},
   "outputs": [],
   "source": [
    "vs1 = 2000.0\n",
    "vs2 = 1800.0\n",
    "mu = np.concatenate([np.repeat(1.0, N - 93), np.repeat(0.81, 97)])"
   ]
  },
  {
   "cell_type": "markdown",
   "id": "19381b8c-45e2-4b09-8489-679ba75b0ba6",
   "metadata": {},
   "source": [
    "We run the forward simulation for this velocity model."
   ]
  },
  {
   "cell_type": "code",
   "execution_count": 5,
   "id": "be2b5ac8-44c1-4cab-83d5-bb0e1ec2b85d",
   "metadata": {},
   "outputs": [],
   "source": [
    "d = forward(N, dx, T, dt, rho, mu, f, x0, x)"
   ]
  },
  {
   "cell_type": "markdown",
   "id": "99a9fda8-67a8-44dc-a14f-b1bad9b82280",
   "metadata": {},
   "source": [
    "We filter and plot the synthetics."
   ]
  },
  {
   "cell_type": "code",
   "execution_count": 6,
   "id": "4f62e205-c013-497f-8651-455e5bc23a2b",
   "metadata": {},
   "outputs": [],
   "source": [
    "b, a = butter(4, 0.1, btype='low')"
   ]
  },
  {
   "cell_type": "code",
   "execution_count": 7,
   "id": "9133e217-c3ed-4c6a-92b0-7375d900d7a9",
   "metadata": {},
   "outputs": [
    {
     "data": {
      "text/plain": [
       "[<matplotlib.lines.Line2D at 0x12f6ec8e0>]"
      ]
     },
     "execution_count": 7,
     "metadata": {},
     "output_type": "execute_result"
    },
    {
     "data": {
      "image/png": "[encoded data removed]",
      "text/plain": [
       "<Figure size 432x288 with 4 Axes>"
      ]
     },
     "metadata": {
      "needs_background": "light"
     },
     "output_type": "display_data"
    }
   ],
   "source": [
    "ax1 = plt.subplot(411)\n",
    "plt.plot(dt * np.arange(0, T), lfilter(b, a, d[:, 0]))\n",
    "plt.setp(ax1.get_xticklabels(), visible=False)\n",
    "ax2 = plt.subplot(412)\n",
    "plt.plot(dt * np.arange(0, T), lfilter(b, a, d[:, 1]))\n",
    "plt.setp(ax2.get_xticklabels(), visible=False)\n",
    "ax3 = plt.subplot(413)\n",
    "plt.plot(dt * np.arange(0, T), lfilter(b, a, d[:, 2]))\n",
    "plt.setp(ax3.get_xticklabels(), visible=False)\n",
    "ax4 = plt.subplot(414)\n",
    "plt.plot(dt * np.arange(0, T), lfilter(b, a, d[:, 3]))"
   ]
  },
  {
   "cell_type": "markdown",
   "id": "b2c9c8d4-ae8a-4096-acf0-589a647525da",
   "metadata": {},
   "source": [
    "## Using automatic differentiation"
   ]
  },
  {
   "cell_type": "markdown",
   "id": "1d2463e4-69bd-4631-8c67-434334cfd2f0",
   "metadata": {},
   "source": [
    "The forward modeling is done as we have done to create the synthetic seismograms. The only difference is that we use PyTorch tensors instead of Numpy arrays, in order to be able to compute the gradient using automatic differentation."
   ]
  },
  {
   "cell_type": "code",
   "execution_count": 8,
   "id": "e4cb7f74-5c7e-4dfc-83f3-eabf59b565ed",
   "metadata": {},
   "outputs": [],
   "source": [
    "def forward_AD(N, dx, T, dt, rho, mu, f, x0, x):\n",
    "    # Initialization\n",
    "    obs = torch.zeros((T, len(x)))\n",
    "    v = torch.zeros(N + 3)\n",
    "    s = torch.zeros(N + 4)\n",
    "    # Loop on time\n",
    "    for i in range(0, T):\n",
    "        # Compute stress\n",
    "        ds = 1.0e10 * mu[2 : (N + 2)] * ((9.0 / 8.0) * (v[2 : (N + 2)] - v[1 : (N + 1)]) - \\\n",
    "                                        (1.0 / 24.0) * (v[3 : (N + 3)] - v[0 : N])) / dx\n",
    "        s[2 : (N + 2)] = s[2 : (N + 2)] + ds * dt\n",
    "        # Boundary condition (reflection)\n",
    "        s[1] = - s[2]\n",
    "        s[0] = - s[3]\n",
    "        s[N + 2] = - s[N + 1]\n",
    "        s[N + 3] = - s[N]\n",
    "        # Compute velocity\n",
    "        dv = (1.0 / rho) * ((9.0 / 8.0) * (s[2 : (N + 3)] - s[1 : (N + 2)]) - \\\n",
    "                           (1.0 / 24.0) * (s[3 : (N + 4)] - s[0 : (N + 1)])) / dx\n",
    "        v[1 : (N + 2)] = v[1 : (N + 2)] + dv * dt\n",
    "        # Add force\n",
    "        if i < len(f):\n",
    "            v[x0] = v[x0] + f[i]\n",
    "        # Receivers\n",
    "        for j in range(0, len(x)):\n",
    "            obs[i, j] = v[x[j]]\n",
    "    return obs"
   ]
  },
  {
   "cell_type": "markdown",
   "id": "dbbc1802-5f21-47ea-a08a-19a9a61e3110",
   "metadata": {
    "tags": []
   },
   "source": [
    "The loss is also computed with PyTorch tensors instead of Numpy arrays."
   ]
  },
  {
   "cell_type": "code",
   "execution_count": 9,
   "id": "f30b8580-5fa7-484f-9496-30d144f0dee5",
   "metadata": {},
   "outputs": [],
   "source": [
    "def loss_AD(obs, d):\n",
    "    F = 0\n",
    "    for j in range(0, obs.size()[1]):\n",
    "        F = F + torch.sum(torch.square(obs[:, j] - torch.from_numpy(d[:, j]))) / 2\n",
    "    return F"
   ]
  },
  {
   "cell_type": "markdown",
   "id": "04e20664-beff-4545-a188-896d5a1d803d",
   "metadata": {},
   "source": [
    "At each step of the optimization process, we compute the current value of the loss, then the gradient of the loss with respect to the value of the shear module $\\mu$, and we update the value of $\\mu$."
   ]
  },
  {
   "cell_type": "code",
   "execution_count": 10,
   "id": "425b3918-f68d-45c4-ad3b-1b6f7061b38f",
   "metadata": {},
   "outputs": [],
   "source": [
    "def step(N, dx, T, dt, rho, mu, f, x0, x, d, alpha):\n",
    "    # Compute the loss for the current value of mu\n",
    "    obs = forward_AD(N, dx, T, dt, rho, mu, f, x0, x)\n",
    "    F = loss_AD(obs, d)\n",
    "    # Compute the gradient of the loss\n",
    "    F.backward()\n",
    "    # Specifically, we want the gradient with respect to mu\n",
    "    dmu = mu.grad\n",
    "    # Update the values of mu\n",
    "    mu = mu - alpha * dmu\n",
    "    mu.retain_grad()\n",
    "    # Return the new value of mu\n",
    "    return (mu, F)"
   ]
  },
  {
   "cell_type": "markdown",
   "id": "9e5fb7fd-36b1-404b-9333-8e69fb0c6634",
   "metadata": {},
   "source": [
    "We can now write the optimization function. At each step, we save the current value of mu and the value of the loss. We must choose the value of the learning rate $\\alpha$."
   ]
  },
  {
   "cell_type": "code",
   "execution_count": 11,
   "id": "f6ec6d44-cfcd-4f73-b5b6-a44a8bf50234",
   "metadata": {},
   "outputs": [],
   "source": [
    "def invert_mu(N, dx, T, dt, rho, f, x0, x, d, alpha, n_epochs):\n",
    "    save_mu = np.zeros((N + 3, n_epochs))\n",
    "    save_F = np.zeros(n_epochs)\n",
    "    f = torch.from_numpy(f)\n",
    "    mu = torch.from_numpy(np.repeat(1.0, N + 3))\n",
    "    mu.requires_grad = True\n",
    "    for epoch in range(0, n_epochs):\n",
    "        (mu, F) = step(N, dx, T, dt, rho, mu, f, x0, x, d, alpha)\n",
    "        save_mu[:, epoch] = mu.detach().numpy()\n",
    "        save_F[epoch] = F\n",
    "    return (mu, save_mu, save_F)"
   ]
  },
  {
   "cell_type": "markdown",
   "id": "672b876c-de1b-4c70-b9c3-100d01aea893",
   "metadata": {},
   "source": [
    "We can now run the optimization algorithm."
   ]
  },
  {
   "cell_type": "code",
   "execution_count": 12,
   "id": "085a103f-9ece-4844-bb77-571fe7d3ab01",
   "metadata": {},
   "outputs": [],
   "source": [
    "(mu, save_mu, save_F) = invert_mu(N, dx, T, dt, rho, f, x0, x, d, 0.001, 20)"
   ]
  },
  {
   "cell_type": "markdown",
   "id": "92a3355e-1a6f-4f15-9564-4d2208db0389",
   "metadata": {},
   "source": [
    "Let us first plot the evolution of the loss."
   ]
  },
  {
   "cell_type": "code",
   "execution_count": 13,
   "id": "be10866f-24ae-444c-afce-4e8208484f31",
   "metadata": {},
   "outputs": [
    {
     "data": {
      "text/plain": [
       "[<matplotlib.lines.Line2D at 0x10fc03580>]"
      ]
     },
     "execution_count": 13,
     "metadata": {},
     "output_type": "execute_result"
    },
    {
     "data": {
      "image/png": "[encoded data removed]",
      "text/plain": [
       "<Figure size 432x288 with 1 Axes>"
      ]
     },
     "metadata": {
      "needs_background": "light"
     },
     "output_type": "display_data"
    }
   ],
   "source": [
    "plt.plot(np.arange(0, 20), save_F)"
   ]
  },
  {
   "cell_type": "markdown",
   "id": "79874b10-c29c-4b52-a586-824bb857555f",
   "metadata": {},
   "source": [
    "We can also plot the seismograms computed with the last value of $\\mu$ and compare it the true value of the synthetics."
   ]
  },
  {
   "cell_type": "code",
   "execution_count": 14,
   "id": "effa33dc-f7be-402b-9c8d-7fd576c52387",
   "metadata": {},
   "outputs": [],
   "source": [
    "obs = forward_AD(N, dx, T, dt, rho, mu, f, x0, x)"
   ]
  },
  {
   "cell_type": "code",
   "execution_count": 15,
   "id": "4f635e59-2b01-426e-a7db-92ca917526c9",
   "metadata": {},
   "outputs": [
    {
     "data": {
      "text/plain": [
       "[<matplotlib.lines.Line2D at 0x12fb0e9d0>]"
      ]
     },
     "execution_count": 15,
     "metadata": {},
     "output_type": "execute_result"
    },
    {
     "data": {
      "image/png": "[encoded data removed]",
      "text/plain": [
       "<Figure size 432x288 with 4 Axes>"
      ]
     },
     "metadata": {
      "needs_background": "light"
     },
     "output_type": "display_data"
    }
   ],
   "source": [
    "ax1 = plt.subplot(411)\n",
    "plt.plot(dt * np.arange(0, T), lfilter(b, a, d[:, 0]), 'b')\n",
    "plt.plot(dt * np.arange(0, T), lfilter(b, a, obs.detach().numpy()[:, 0]), 'r')\n",
    "plt.setp(ax1.get_xticklabels(), visible=False)\n",
    "ax2 = plt.subplot(412)\n",
    "plt.plot(dt * np.arange(0, T), lfilter(b, a, d[:, 1]), 'b')\n",
    "plt.plot(dt * np.arange(0, T), lfilter(b, a, obs.detach().numpy()[:, 1]), 'r')\n",
    "plt.setp(ax2.get_xticklabels(), visible=False)\n",
    "ax3 = plt.subplot(413)\n",
    "plt.plot(dt * np.arange(0, T), lfilter(b, a, d[:, 2]), 'b')\n",
    "plt.plot(dt * np.arange(0, T), lfilter(b, a, obs.detach().numpy()[:, 2]), 'r')\n",
    "plt.setp(ax3.get_xticklabels(), visible=False)\n",
    "ax4 = plt.subplot(414)\n",
    "plt.plot(dt * np.arange(0, T), lfilter(b, a, d[:, 3]), 'b')\n",
    "plt.plot(dt * np.arange(0, T), lfilter(b, a, obs.detach().numpy()[:, 3]), 'r')"
   ]
  },
  {
   "cell_type": "markdown",
   "id": "cbbc2355-c338-4d98-a884-b494183b32d0",
   "metadata": {},
   "source": [
    "We can see that there is a good agreement between the theoretical seismograms and the obtained after the inversion. Let us now look at the value of $\\mu$."
   ]
  },
  {
   "cell_type": "code",
   "execution_count": 16,
   "id": "a75cc172-7fa7-443e-b99b-2fb819fc6f90",
   "metadata": {},
   "outputs": [
    {
     "data": {
      "text/plain": [
       "[<matplotlib.lines.Line2D at 0x12fc6ad90>]"
      ]
     },
     "execution_count": 16,
     "metadata": {},
     "output_type": "execute_result"
    },
    {
     "data": {
      "image/png": "[encoded data removed]",
      "text/plain": [
       "<Figure size 432x288 with 1 Axes>"
      ]
     },
     "metadata": {
      "needs_background": "light"
     },
     "output_type": "display_data"
    }
   ],
   "source": [
    "plt.axvline(x0, color='black')\n",
    "for j in range(0, len(x)):\n",
    "    plt.axvline(x[j], color='grey')\n",
    "plt.plot(np.arange(0, N + 3), np.concatenate([np.repeat(rho * vs1 * vs1, N - 93), np.repeat(rho * vs2 * vs2, 96)]), 'b')\n",
    "plt.plot(np.arange(0, N + 3), 1.0e10 * mu.detach().numpy(), 'r')"
   ]
  },
  {
   "cell_type": "code",
   "execution_count": null,
   "id": "7063a3db-f17c-4752-80ec-cc96569ccdfe",
   "metadata": {},
   "outputs": [],
   "source": []
  }
 ],
 "metadata": {
  "kernelspec": {
   "display_name": "Python 3",
   "language": "python",
   "name": "python3"
  },
  "language_info": {
   "codemirror_mode": {
    "name": "ipython",
    "version": 3
   },
   "file_extension": ".py",
   "mimetype": "text/x-python",
   "name": "python",
   "nbconvert_exporter": "python",
   "pygments_lexer": "ipython3",
   "version": "3.9.4"
  }
 },
 "nbformat": 4,
 "nbformat_minor": 5
}
