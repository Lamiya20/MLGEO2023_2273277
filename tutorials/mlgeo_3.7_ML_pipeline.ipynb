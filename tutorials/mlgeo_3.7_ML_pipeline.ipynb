{
 "cells": [
  {
   "cell_type": "markdown",
   "metadata": {},
   "source": [
    "# Automated Machine Learning Pipeline\n",
    "\n",
    "## ML pipeline\n",
    "\n",
    "The overall ML project pipeline is:\n",
    "* Exploratory Data Processing\n",
    "* Data Preprocessing (pca, data transforms, feature engineering)\n",
    "* Model design&training\n",
    "    - choose loss function\n",
    "    - choose algorithm and its hyperparameters:\n",
    "        In general, favor the most parsimonuous model that explains the majority of the data. Generate a model that has a high degree of interpretability, generalization, and predictive capabilities.\n",
    "    - Split train-test \n",
    "    - train\n",
    "\n",
    "* Model evaluation\n",
    "\n",
    "Did the model perform well? If not:\n",
    "    - Perform automated hyperparameter tuning using grid search or randomized search.\n",
    "    - Choose another algorithm. One approach is to try others manuall and compare performance. Another approach is to do a systematic search, called **autoML**\n",
    "   \n",
    "\n",
    "\n",
    "\n"
   ]
  },
  {
   "cell_type": "markdown",
   "metadata": {},
   "source": [
    "\n",
    "## AutoML: Selection of best model\n",
    "Automatic ML is the field of machine learning that seeks to find the optimal choice of machine-learning pipeline to \n",
    "\n",
    "There are several leading automated ML pipelines.\n",
    "\n",
    "* [auto-sklearn](!https://automl.github.io/auto-sklearn/master/): a scikit-learn style automated ML pipeline. It won competitions for automated ML pipeline. Feurer et al, 2015;2020.\n",
    "\n",
    "\n",
    "![auto-sklearn](autosklearn.png)\n",
    "\n",
    "\n",
    "Currently installed in the jupyterhub docker image, but requires more memory to run on the digits data. Difficult to use with Mac OSX.\n",
    "\n",
    "* H2O\n",
    "\n",
    "* [Pacaret](!https://github.com/pycaret/pycaret) (requires sklearn < 0.23)\n"
   ]
  },
  {
   "cell_type": "code",
   "execution_count": 5,
   "metadata": {},
   "outputs": [
    {
     "name": "stdout",
     "output_type": "stream",
     "text": [
      "Collecting auto-sklearn\n",
      "  Using cached auto_sklearn-0.15.0-py3-none-any.whl\n",
      "Requirement already satisfied: setuptools in /Users/marinedenolle/.conda/envs/mlgeo_sk/lib/python3.9/site-packages (from auto-sklearn) (65.4.0)\n",
      "Collecting smac<1.3,>=1.2\n",
      "  Using cached smac-1.2-py3-none-any.whl\n",
      "Collecting pynisher<0.7,>=0.6.3\n",
      "  Using cached pynisher-0.6.4-py3-none-any.whl\n",
      "Requirement already satisfied: scipy>=1.7.0 in /Users/marinedenolle/.conda/envs/mlgeo_sk/lib/python3.9/site-packages (from auto-sklearn) (1.9.3)\n",
      "Requirement already satisfied: joblib in /Users/marinedenolle/.conda/envs/mlgeo_sk/lib/python3.9/site-packages (from auto-sklearn) (1.2.0)\n",
      "Requirement already satisfied: dask>=2021.12 in /Users/marinedenolle/.conda/envs/mlgeo_sk/lib/python3.9/site-packages (from auto-sklearn) (2022.10.2)\n",
      "Requirement already satisfied: pyyaml in /Users/marinedenolle/.conda/envs/mlgeo_sk/lib/python3.9/site-packages (from auto-sklearn) (6.0)\n",
      "Collecting distro\n",
      "  Using cached distro-1.8.0-py3-none-any.whl (20 kB)\n",
      "Collecting liac-arff\n",
      "  Using cached liac_arff-2.5.0-py3-none-any.whl\n",
      "Requirement already satisfied: numpy>=1.9.0 in /Users/marinedenolle/.conda/envs/mlgeo_sk/lib/python3.9/site-packages (from auto-sklearn) (1.23.4)\n",
      "Collecting distributed>=2012.12\n",
      "  Using cached distributed-2022.10.2-py3-none-any.whl (918 kB)\n",
      "Requirement already satisfied: pandas>=1.0 in /Users/marinedenolle/.conda/envs/mlgeo_sk/lib/python3.9/site-packages (from auto-sklearn) (1.5.1)\n",
      "Collecting ConfigSpace<0.5,>=0.4.21\n",
      "  Using cached ConfigSpace-0.4.21-cp39-cp39-macosx_10_9_x86_64.whl (882 kB)\n",
      "Collecting pyrfr<0.9,>=0.8.1\n",
      "  Using cached pyrfr-0.8.3.tar.gz (293 kB)\n",
      "Requirement already satisfied: typing-extensions in /Users/marinedenolle/.conda/envs/mlgeo_sk/lib/python3.9/site-packages (from auto-sklearn) (4.3.0)\n",
      "Requirement already satisfied: scikit-learn<0.25.0,>=0.24.0 in /Users/marinedenolle/.conda/envs/mlgeo_sk/lib/python3.9/site-packages (from auto-sklearn) (0.24.2)\n",
      "Requirement already satisfied: threadpoolctl in /Users/marinedenolle/.conda/envs/mlgeo_sk/lib/python3.9/site-packages (from auto-sklearn) (3.1.0)\n",
      "Requirement already satisfied: cython in /Users/marinedenolle/.conda/envs/mlgeo_sk/lib/python3.9/site-packages (from ConfigSpace<0.5,>=0.4.21->auto-sklearn) (0.29.32)\n",
      "Requirement already satisfied: pyparsing in /Users/marinedenolle/.conda/envs/mlgeo_sk/lib/python3.9/site-packages (from ConfigSpace<0.5,>=0.4.21->auto-sklearn) (3.0.9)\n",
      "Requirement already satisfied: toolz>=0.8.2 in /Users/marinedenolle/.conda/envs/mlgeo_sk/lib/python3.9/site-packages (from dask>=2021.12->auto-sklearn) (0.12.0)\n",
      "Requirement already satisfied: partd>=0.3.10 in /Users/marinedenolle/.conda/envs/mlgeo_sk/lib/python3.9/site-packages (from dask>=2021.12->auto-sklearn) (1.3.0)\n",
      "Requirement already satisfied: fsspec>=0.6.0 in /Users/marinedenolle/.conda/envs/mlgeo_sk/lib/python3.9/site-packages (from dask>=2021.12->auto-sklearn) (2022.8.2)\n",
      "Requirement already satisfied: cloudpickle>=1.1.1 in /Users/marinedenolle/.conda/envs/mlgeo_sk/lib/python3.9/site-packages (from dask>=2021.12->auto-sklearn) (2.2.0)\n",
      "Requirement already satisfied: packaging>=20.0 in /Users/marinedenolle/.conda/envs/mlgeo_sk/lib/python3.9/site-packages (from dask>=2021.12->auto-sklearn) (21.3)\n",
      "Requirement already satisfied: click>=7.0 in /Users/marinedenolle/.conda/envs/mlgeo_sk/lib/python3.9/site-packages (from dask>=2021.12->auto-sklearn) (8.1.3)\n",
      "Requirement already satisfied: tblib>=1.6.0 in /Users/marinedenolle/.conda/envs/mlgeo_sk/lib/python3.9/site-packages (from distributed>=2012.12->auto-sklearn) (1.7.0)\n",
      "Requirement already satisfied: msgpack>=0.6.0 in /Users/marinedenolle/.conda/envs/mlgeo_sk/lib/python3.9/site-packages (from distributed>=2012.12->auto-sklearn) (1.0.4)\n",
      "Requirement already satisfied: tornado<6.2,>=6.0.3 in /Users/marinedenolle/.conda/envs/mlgeo_sk/lib/python3.9/site-packages (from distributed>=2012.12->auto-sklearn) (6.1)\n",
      "Requirement already satisfied: urllib3 in /Users/marinedenolle/.conda/envs/mlgeo_sk/lib/python3.9/site-packages (from distributed>=2012.12->auto-sklearn) (1.26.11)\n",
      "Requirement already satisfied: zict>=0.1.3 in /Users/marinedenolle/.conda/envs/mlgeo_sk/lib/python3.9/site-packages (from distributed>=2012.12->auto-sklearn) (2.2.0)\n",
      "Requirement already satisfied: jinja2 in /Users/marinedenolle/.conda/envs/mlgeo_sk/lib/python3.9/site-packages (from distributed>=2012.12->auto-sklearn) (3.1.2)\n",
      "Requirement already satisfied: psutil>=5.0 in /Users/marinedenolle/.conda/envs/mlgeo_sk/lib/python3.9/site-packages (from distributed>=2012.12->auto-sklearn) (5.9.3)\n",
      "Requirement already satisfied: sortedcontainers!=2.0.0,!=2.0.1 in /Users/marinedenolle/.conda/envs/mlgeo_sk/lib/python3.9/site-packages (from distributed>=2012.12->auto-sklearn) (2.4.0)\n",
      "Requirement already satisfied: locket>=1.0.0 in /Users/marinedenolle/.conda/envs/mlgeo_sk/lib/python3.9/site-packages (from distributed>=2012.12->auto-sklearn) (1.0.0)\n",
      "Requirement already satisfied: python-dateutil>=2.8.1 in /Users/marinedenolle/.conda/envs/mlgeo_sk/lib/python3.9/site-packages (from pandas>=1.0->auto-sklearn) (2.8.2)\n",
      "Requirement already satisfied: pytz>=2020.1 in /Users/marinedenolle/.conda/envs/mlgeo_sk/lib/python3.9/site-packages (from pandas>=1.0->auto-sklearn) (2022.2.1)\n",
      "Requirement already satisfied: six>=1.5 in /Users/marinedenolle/.conda/envs/mlgeo_sk/lib/python3.9/site-packages (from python-dateutil>=2.8.1->pandas>=1.0->auto-sklearn) (1.16.0)\n",
      "Collecting emcee>=3.0.0\n",
      "  Using cached emcee-3.1.3-py2.py3-none-any.whl (46 kB)\n",
      "Requirement already satisfied: heapdict in /Users/marinedenolle/.conda/envs/mlgeo_sk/lib/python3.9/site-packages (from zict>=0.1.3->distributed>=2012.12->auto-sklearn) (1.0.1)\n",
      "Requirement already satisfied: MarkupSafe>=2.0 in /Users/marinedenolle/.conda/envs/mlgeo_sk/lib/python3.9/site-packages (from jinja2->distributed>=2012.12->auto-sklearn) (2.1.1)\n",
      "Building wheels for collected packages: pyrfr\n",
      "  Building wheel for pyrfr (setup.py) ... \u001b[?25lerror\n",
      "\u001b[31m  ERROR: Command errored out with exit status 1:\n",
      "   command: /Users/marinedenolle/.conda/envs/mlgeo_sk/bin/python3.9 -u -c 'import sys, setuptools, tokenize; sys.argv[0] = '\"'\"'/private/var/folders/js/lzmy975n0l5bjbmr9db291m00000gn/T/pip-install-4am24ndl/pyrfr_edef4e4d9ff545c5b9ab7093d2e70f73/setup.py'\"'\"'; __file__='\"'\"'/private/var/folders/js/lzmy975n0l5bjbmr9db291m00000gn/T/pip-install-4am24ndl/pyrfr_edef4e4d9ff545c5b9ab7093d2e70f73/setup.py'\"'\"';f=getattr(tokenize, '\"'\"'open'\"'\"', open)(__file__);code=f.read().replace('\"'\"'\\r\\n'\"'\"', '\"'\"'\\n'\"'\"');f.close();exec(compile(code, __file__, '\"'\"'exec'\"'\"'))' bdist_wheel -d /private/var/folders/js/lzmy975n0l5bjbmr9db291m00000gn/T/pip-wheel-wu9chc6b\n",
      "       cwd: /private/var/folders/js/lzmy975n0l5bjbmr9db291m00000gn/T/pip-install-4am24ndl/pyrfr_edef4e4d9ff545c5b9ab7093d2e70f73/\n",
      "  Complete output (8 lines):\n",
      "  [<setuptools.extension.Extension('pyrfr._regression') at 0x10a7fb070>, <setuptools.extension.Extension('pyrfr._util') at 0x10a7fb0a0>]\n",
      "  running bdist_wheel\n",
      "  running build\n",
      "  running build_ext\n",
      "  building 'pyrfr._regression' extension\n",
      "  swigging pyrfr/regression.i to pyrfr/regression_wrap.cpp\n",
      "  swig -python -c++ -modern -py3 -features nondynamic -I./include -o pyrfr/regression_wrap.cpp pyrfr/regression.i\n",
      "  error: command 'swig' failed: No such file or directory\n",
      "  ----------------------------------------\u001b[0m\n",
      "\u001b[31m  ERROR: Failed building wheel for pyrfr\u001b[0m\n",
      "\u001b[?25h  Running setup.py clean for pyrfr\n",
      "Failed to build pyrfr\n",
      "Installing collected packages: pyrfr, pynisher, emcee, distributed, ConfigSpace, smac, liac-arff, distro, auto-sklearn\n",
      "    Running setup.py install for pyrfr ... \u001b[?25lerror\n",
      "\u001b[31m    ERROR: Command errored out with exit status 1:\n",
      "     command: /Users/marinedenolle/.conda/envs/mlgeo_sk/bin/python3.9 -u -c 'import sys, setuptools, tokenize; sys.argv[0] = '\"'\"'/private/var/folders/js/lzmy975n0l5bjbmr9db291m00000gn/T/pip-install-4am24ndl/pyrfr_edef4e4d9ff545c5b9ab7093d2e70f73/setup.py'\"'\"'; __file__='\"'\"'/private/var/folders/js/lzmy975n0l5bjbmr9db291m00000gn/T/pip-install-4am24ndl/pyrfr_edef4e4d9ff545c5b9ab7093d2e70f73/setup.py'\"'\"';f=getattr(tokenize, '\"'\"'open'\"'\"', open)(__file__);code=f.read().replace('\"'\"'\\r\\n'\"'\"', '\"'\"'\\n'\"'\"');f.close();exec(compile(code, __file__, '\"'\"'exec'\"'\"'))' install --record /private/var/folders/js/lzmy975n0l5bjbmr9db291m00000gn/T/pip-record-3msp57sz/install-record.txt --single-version-externally-managed --compile --install-headers /Users/marinedenolle/.conda/envs/mlgeo_sk/include/python3.9/pyrfr\n",
      "         cwd: /private/var/folders/js/lzmy975n0l5bjbmr9db291m00000gn/T/pip-install-4am24ndl/pyrfr_edef4e4d9ff545c5b9ab7093d2e70f73/\n",
      "    Complete output (9 lines):\n",
      "    [<setuptools.extension.Extension('pyrfr._regression') at 0x10a776070>, <setuptools.extension.Extension('pyrfr._util') at 0x10a7760a0>]\n",
      "    running install\n",
      "    /Users/marinedenolle/.conda/envs/mlgeo_sk/lib/python3.9/site-packages/setuptools/command/install.py:34: SetuptoolsDeprecationWarning: setup.py install is deprecated. Use build and pip and other standards-based tools.\n",
      "      warnings.warn(\n",
      "    running build_ext\n",
      "    building 'pyrfr._regression' extension\n",
      "    swigging pyrfr/regression.i to pyrfr/regression_wrap.cpp\n",
      "    swig -python -c++ -modern -py3 -features nondynamic -I./include -o pyrfr/regression_wrap.cpp pyrfr/regression.i\n",
      "    error: command 'swig' failed: No such file or directory\n",
      "    ----------------------------------------\u001b[0m\n",
      "\u001b[?25h\u001b[31mERROR: Command errored out with exit status 1: /Users/marinedenolle/.conda/envs/mlgeo_sk/bin/python3.9 -u -c 'import sys, setuptools, tokenize; sys.argv[0] = '\"'\"'/private/var/folders/js/lzmy975n0l5bjbmr9db291m00000gn/T/pip-install-4am24ndl/pyrfr_edef4e4d9ff545c5b9ab7093d2e70f73/setup.py'\"'\"'; __file__='\"'\"'/private/var/folders/js/lzmy975n0l5bjbmr9db291m00000gn/T/pip-install-4am24ndl/pyrfr_edef4e4d9ff545c5b9ab7093d2e70f73/setup.py'\"'\"';f=getattr(tokenize, '\"'\"'open'\"'\"', open)(__file__);code=f.read().replace('\"'\"'\\r\\n'\"'\"', '\"'\"'\\n'\"'\"');f.close();exec(compile(code, __file__, '\"'\"'exec'\"'\"'))' install --record /private/var/folders/js/lzmy975n0l5bjbmr9db291m00000gn/T/pip-record-3msp57sz/install-record.txt --single-version-externally-managed --compile --install-headers /Users/marinedenolle/.conda/envs/mlgeo_sk/include/python3.9/pyrfr Check the logs for full command output.\u001b[0m\n"
     ]
    }
   ],
   "source": [
    "!pip install auto-sklearn"
   ]
  },
  {
   "cell_type": "code",
   "execution_count": 6,
   "metadata": {},
   "outputs": [],
   "source": [
    "import numpy as np\n",
    "import sklearn\n",
    "from sklearn.datasets import load_digits\n",
    "from sklearn.preprocessing import MinMaxScaler\n",
    "from sklearn.model_selection import train_test_split\n",
    "digits = load_digits()\n",
    "data,y = digits[\"data\"].copy(),digits[\"target\"].copy()\n",
    "scaler = MinMaxScaler()\n",
    "scaler.fit_transform(data)# fit the model for data normalization\n",
    "newdata = scaler.transform(data) # transform the data. watch that data was converted to a numpy array\n",
    "\n",
    "X_train, X_test, y_train, y_test = train_test_split(\n",
    "    data, y, test_size=0.2, shuffle=False)\n"
   ]
  },
  {
   "cell_type": "code",
   "execution_count": 7,
   "metadata": {},
   "outputs": [
    {
     "ename": "ModuleNotFoundError",
     "evalue": "No module named 'autosklearn'",
     "output_type": "error",
     "traceback": [
      "\u001b[0;31m---------------------------------------------------------------------------\u001b[0m",
      "\u001b[0;31mModuleNotFoundError\u001b[0m                       Traceback (most recent call last)",
      "Cell \u001b[0;32mIn [7], line 1\u001b[0m\n\u001b[0;32m----> 1\u001b[0m \u001b[39mfrom\u001b[39;00m \u001b[39mautosklearn\u001b[39;00m\u001b[39m.\u001b[39;00m\u001b[39mexperimental\u001b[39;00m\u001b[39m.\u001b[39;00m\u001b[39maskl2\u001b[39;00m \u001b[39mimport\u001b[39;00m AutoSklearn2Classifier\n\u001b[1;32m      2\u001b[0m \u001b[39mfrom\u001b[39;00m \u001b[39mautosklearn\u001b[39;00m\u001b[39m.\u001b[39;00m\u001b[39mmetrics\u001b[39;00m \u001b[39mimport\u001b[39;00m roc_auc\n\u001b[1;32m      3\u001b[0m \u001b[39mcls\u001b[39m \u001b[39m=\u001b[39m autosklearn\u001b[39m.\u001b[39mclassification\u001b[39m.\u001b[39mAutoSklearnClassifier()\n",
      "\u001b[0;31mModuleNotFoundError\u001b[0m: No module named 'autosklearn'"
     ]
    }
   ],
   "source": [
    "from autosklearn.experimental.askl2 import AutoSklearn2Classifier\n",
    "from autosklearn.metrics import roc_auc\n",
    "cls = autosklearn.classification.AutoSklearnClassifier()\n",
    "cls.fit(X_train, y_train)\n",
    "y_test_pred = cls.predict(X_test)\n",
    "print(\"Accuracy score\", sklearn.metrics.accuracy_score(y_test, y_test_pred))"
   ]
  },
  {
   "cell_type": "markdown",
   "metadata": {},
   "source": []
  }
 ],
 "metadata": {
  "kernelspec": {
   "display_name": "Python 3.9.6 ('madrona')",
   "language": "python",
   "name": "python3"
  },
  "language_info": {
   "codemirror_mode": {
    "name": "ipython",
    "version": 3
   },
   "file_extension": ".py",
   "mimetype": "text/x-python",
   "name": "python",
   "nbconvert_exporter": "python",
   "pygments_lexer": "ipython3",
   "version": "3.9.6"
  },
  "orig_nbformat": 4,
  "vscode": {
   "interpreter": {
    "hash": "1c2df93b363d800c8a9b94963221f1be1d8deaf6a76f83b6b9a486ad05d69583"
   }
  }
 },
 "nbformat": 4,
 "nbformat_minor": 2
}
