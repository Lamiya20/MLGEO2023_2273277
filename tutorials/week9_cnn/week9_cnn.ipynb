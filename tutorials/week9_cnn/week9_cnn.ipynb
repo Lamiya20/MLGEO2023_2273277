{
 "cells": [
  {
   "cell_type": "code",
   "execution_count": 51,
   "metadata": {},
   "outputs": [],
   "source": [
    "import tensorflow as tf\n",
    "from tensorflow import keras\n",
    "import numpy as np\n",
    "import matplotlib.pyplot as plt\n",
    "import pandas as pd\n",
    "import h5py\n",
    "import sklearn\n",
    "from sklearn.model_selection import train_test_split\n",
    "from keras.models import layers"
   ]
  },
  {
   "cell_type": "markdown",
   "metadata": {},
   "source": [
    "# Convolutional Neural Networks\n",
    "\n",
    "In the convolutional layer, the neurons are not connected to every part of the input data.\n",
    "The anatomy of a Convolutional layer.\n",
    "\n",
    "A dense layer learns global patterns. A convolution layer learns local patterns. Because of that, CNNs are **translation invariant** as they pick part of the image of time series and generalize the learning elsewhere. CNNs learn **hierarchical patterns**: a first layer learns a local pattern, a second layer combines the local features to create a broader scale feature.\n",
    "\n",
    "\n",
    "<img src=\"Convolution.png\" alt=\"cnn\" style=\"width: 400px;\"/>\n",
    "\n",
    "* The **input** \"feature map\" is the input data for a given layer. It is 3D for a 2D convolution. The three dimensions are: *height*, *width*, *depth/channels*. For instance, width and heights are the 2D images, the depth can be the different RGB. The ordering of the dimension of the input is captured in the ``data_format`` argument with ``'channel_first'`` \n",
    " When including 3D data (RGB of images, or multi channels of geophysical measurement's spectrograms), write out the input shape: batch_shape + (channels, rows, cols) if ``data_format='channels_first'`` or batch_shape + (rows, cols, channels) if ``data_format='channels_last'``.\n",
    "* The **filters** are the **convolution kernels** are the dimensionality of the output space. \n",
    "* The **kernel size** is a list of 2 integer that specifies the height and width of the 2D convolution window. If both integers are equal, just use a single integer value.\n",
    "* The **stride** is the step that the convolution skips when being applying the filters. It is one way to reduce the feature map, but the most popular choice for this is to use ***maxpooling***.\n",
    "* The **padding** is set to either ``SAME`` or ``VALID`` depending on whether the edges of the feature map are extended and filled with zeros (same) to fit the total length of the kernel size and stride, or wether they are ignored (valid)\n",
    "\n",
    "The convolution can be 1D or 2D depending on the array input:\n",
    "\n",
    "When the input a single dimension array (vector, time series), use a Conv1D layer.\n",
    "https://keras.io/api/layers/convolution_layers/convolution1d/\n",
    "\n",
    "\n",
    "When the input is a 2D image (2D array) or a time series with multiple channels (example of a seismogram with 3 components), use Conv2D layers.\n",
    "https://keras.io/api/layers/convolution_layers/convolution2d/\n",
    "\n",
    "A neuron weight can be represented as a small image the size of the receiptive field. It reduces the dimensionality of the image.\n",
    "\n",
    "Stride is the shift over features\n",
    "Input_shape is the dimension of the data.\n",
    "\n",
    "\n",
    "## Pooling layers\n",
    "\n",
    "**MaxPooling** layers are downsampling layers. It ouputs the max value of each channel of windwos in a feature map. Downsampling reduces the number of feature-map coefficients to process, as well as to induce spatial-filter hierarchies by making successive convolution layers look at increasingly large windows (in terms of the fraction of\n",
    "the original input they cover). The pooling size is the factor of reduction in the layer size.\n",
    "\n",
    "**UpSampling**\n",
    "One can do the opposite and upsample the data using interpolation, either the nearest value or a bilinear interpolation. This will be used later for auto-encoders.\n",
    "\n",
    "\n"
   ]
  },
  {
   "cell_type": "code",
   "execution_count": 55,
   "metadata": {},
   "outputs": [
    {
     "name": "stdout",
     "output_type": "stream",
     "text": [
      "(55000, 28, 28, 1)\n",
      "(55000,)\n",
      "[0 1 2 3 4 5 6 7 8 9]\n",
      "10\n"
     ]
    }
   ],
   "source": [
    "(X_train_full, y_train_full), (X_test, y_test) = keras.datasets.fashion_mnist.load_data()\n",
    "# print(\"x_train shape:\", x_train.shape, \"y_train shape:\", y_train.shape)\n",
    "class_names = [\"tshirt\",\"trousers\",\"pullover\",\"dress\",\"coat\",\"sandal\",\"shirt\",\"sneaker\",\"bag\",\"boot\"]\n",
    "X_val,X_train = X_train_full[:5000]/255.0,X_train_full[5000:]/255.0\n",
    "y_val,y_train = y_train_full[:5000],y_train_full[5000:]\n",
    "# Here we have to add one dimension to the images in order to match the conv2D requirements in Keras.\n",
    "# And we do it for all variables.\n",
    "X_train=X_train[...,None]\n",
    "X_val=X_val[...,None]\n",
    "X_test=X_test[...,None]\n",
    "print(X_train.shape)\n",
    "print(y_train.shape)\n",
    "print(np.unique(y_train))\n",
    "print(len(np.unique(y_train)))"
   ]
  },
  {
   "cell_type": "markdown",
   "metadata": {},
   "source": [
    "### Create the model"
   ]
  },
  {
   "cell_type": "code",
   "execution_count": 47,
   "metadata": {},
   "outputs": [
    {
     "name": "stdout",
     "output_type": "stream",
     "text": [
      "Model: \"sequential_8\"\n",
      "_________________________________________________________________\n",
      "Layer (type)                 Output Shape              Param #   \n",
      "=================================================================\n",
      "conv2d_16 (Conv2D)           (None, 28, 28, 64)        3200      \n",
      "_________________________________________________________________\n",
      "max_pooling2d_12 (MaxPooling (None, 14, 14, 64)        0         \n",
      "_________________________________________________________________\n",
      "conv2d_17 (Conv2D)           (None, 14, 14, 128)       73856     \n",
      "_________________________________________________________________\n",
      "conv2d_18 (Conv2D)           (None, 14, 14, 128)       147584    \n",
      "_________________________________________________________________\n",
      "max_pooling2d_13 (MaxPooling (None, 7, 7, 128)         0         \n",
      "_________________________________________________________________\n",
      "flatten_6 (Flatten)          (None, 6272)              0         \n",
      "_________________________________________________________________\n",
      "dense_14 (Dense)             (None, 128)               802944    \n",
      "_________________________________________________________________\n",
      "dropout_16 (Dropout)         (None, 128)               0         \n",
      "_________________________________________________________________\n",
      "dense_15 (Dense)             (None, 64)                8256      \n",
      "_________________________________________________________________\n",
      "dropout_17 (Dropout)         (None, 64)                0         \n",
      "_________________________________________________________________\n",
      "dense_16 (Dense)             (None, 10)                650       \n",
      "=================================================================\n",
      "Total params: 1,036,490\n",
      "Trainable params: 1,036,490\n",
      "Non-trainable params: 0\n",
      "_________________________________________________________________\n"
     ]
    }
   ],
   "source": [
    "model = keras.Sequential()\n",
    "# Must define the input shape in the first layer of the neural network\n",
    "model.add(layers.Conv2D(filters=64, kernel_size=7, padding='same', activation='relu', input_shape=(28,28,1))) \n",
    "model.add(layers.MaxPooling2D(2))\n",
    "# model.add(tf.keras.layers.Dropout(0.3))\n",
    "# it is common practice to double the number of filters after each pooling layer since we just rediced the number of parameters and we can afford it\n",
    "model.add(layers.Conv2D(filters=128, kernel_size=3, padding='same', activation='relu'))\n",
    "model.add(layers.Conv2D(filters=128, kernel_size=3, padding='same', activation='relu')) \n",
    "model.add(layers.MaxPooling2D(2))\n",
    "# model.add(tf.keras.layers.Dropout(0.3))\n",
    "model.add(layers.Flatten())\n",
    "model.add(layers.Dense(128, activation='relu'))\n",
    "model.add(layers.Dropout(0.5))\n",
    "model.add(layers.Dense(64, activation='relu'))\n",
    "model.add(layers.Dropout(0.5))\n",
    "model.add(layers.Dense(10, activation='softmax'))\n",
    "# Take a look at the model summary\n",
    "model.summary()"
   ]
  },
  {
   "cell_type": "markdown",
   "metadata": {},
   "source": [
    "### Compile the model\n",
    "choose the appropriate loss function. We have a multi-class classification example, so we will use the categorical crossentropy. We will use the Adam optimizer to be fast. We will use the accuracy for the metric on the loss."
   ]
  },
  {
   "cell_type": "code",
   "execution_count": 48,
   "metadata": {},
   "outputs": [],
   "source": [
    "cb = keras.callbacks.EarlyStopping(\n",
    "    monitor=\"val_loss\", # use the validation loss as a metric\n",
    "    patience=2, # number of epochs to wait until there is improvement\n",
    "    verbose=1,\n",
    "    mode=\"auto\",\n",
    "    restore_best_weights=True,\n",
    ")\n",
    "model.compile(loss=\"sparse_categorical_crossentropy\",\n",
    "             optimizer='adam',\n",
    "             metrics=\"accuracy\",callbacks=cb)"
   ]
  },
  {
   "cell_type": "markdown",
   "metadata": {},
   "source": [
    "### Train the model\n",
    "Choose the batch size, the number of epochs (iterations). Fit and be patient: grab a coffee, watch a webinar."
   ]
  },
  {
   "cell_type": "code",
   "execution_count": 57,
   "metadata": {},
   "outputs": [
    {
     "name": "stdout",
     "output_type": "stream",
     "text": [
      "Epoch 1/20\n",
      "2292/2292 [==============================] - 111s 48ms/step - loss: 0.1697 - accuracy: 0.9421 - val_loss: 0.2827 - val_accuracy: 0.9236\n",
      "Epoch 2/20\n",
      "2292/2292 [==============================] - 109s 48ms/step - loss: 0.1708 - accuracy: 0.9425 - val_loss: 0.2763 - val_accuracy: 0.9180\n",
      "Epoch 3/20\n",
      "2292/2292 [==============================] - 115s 50ms/step - loss: 0.1622 - accuracy: 0.9453 - val_loss: 0.2924 - val_accuracy: 0.9220\n",
      "Epoch 4/20\n",
      "2292/2292 [==============================] - 108s 47ms/step - loss: 0.1630 - accuracy: 0.9453 - val_loss: 0.2783 - val_accuracy: 0.9160\n",
      "Epoch 5/20\n",
      "2292/2292 [==============================] - 111s 48ms/step - loss: 0.1652 - accuracy: 0.9448 - val_loss: 0.2926 - val_accuracy: 0.9214\n",
      "Epoch 6/20\n",
      "2292/2292 [==============================] - 113s 49ms/step - loss: 0.1545 - accuracy: 0.9476 - val_loss: 0.2839 - val_accuracy: 0.9208\n",
      "Epoch 7/20\n",
      "2292/2292 [==============================] - 118s 51ms/step - loss: 0.1620 - accuracy: 0.9457 - val_loss: 0.2937 - val_accuracy: 0.9226\n",
      "Epoch 8/20\n",
      "2292/2292 [==============================] - 125s 54ms/step - loss: 0.1512 - accuracy: 0.9489 - val_loss: 0.3126 - val_accuracy: 0.9178\n",
      "Epoch 9/20\n",
      "2292/2292 [==============================] - 113s 49ms/step - loss: 0.1422 - accuracy: 0.9521 - val_loss: 0.3217 - val_accuracy: 0.9208\n",
      "Epoch 10/20\n",
      "2292/2292 [==============================] - 113s 49ms/step - loss: 0.1516 - accuracy: 0.9500 - val_loss: 0.3230 - val_accuracy: 0.9204\n",
      "Epoch 11/20\n",
      "2292/2292 [==============================] - 116s 51ms/step - loss: 0.1409 - accuracy: 0.9536 - val_loss: 0.3493 - val_accuracy: 0.9218\n",
      "Epoch 12/20\n",
      "2292/2292 [==============================] - 116s 51ms/step - loss: 0.1397 - accuracy: 0.9529 - val_loss: 0.3352 - val_accuracy: 0.9202\n",
      "Epoch 13/20\n",
      "2292/2292 [==============================] - 113s 49ms/step - loss: 0.1318 - accuracy: 0.9548 - val_loss: 0.3508 - val_accuracy: 0.9212\n",
      "Epoch 14/20\n",
      "2292/2292 [==============================] - 108s 47ms/step - loss: 0.1410 - accuracy: 0.9539 - val_loss: 0.3231 - val_accuracy: 0.9240\n",
      "Epoch 15/20\n",
      "2292/2292 [==============================] - 111s 48ms/step - loss: 0.1302 - accuracy: 0.9561 - val_loss: 0.3585 - val_accuracy: 0.9174\n",
      "Epoch 16/20\n",
      "2292/2292 [==============================] - 107s 47ms/step - loss: 0.1313 - accuracy: 0.9562 - val_loss: 0.3812 - val_accuracy: 0.9166\n",
      "Epoch 17/20\n",
      "2292/2292 [==============================] - 108s 47ms/step - loss: 0.1342 - accuracy: 0.9551 - val_loss: 0.3518 - val_accuracy: 0.9166\n",
      "Epoch 18/20\n",
      "2292/2292 [==============================] - 112s 49ms/step - loss: 0.1282 - accuracy: 0.9579 - val_loss: 0.3578 - val_accuracy: 0.9194\n",
      "Epoch 19/20\n",
      "2292/2292 [==============================] - 113s 49ms/step - loss: 0.1253 - accuracy: 0.9577 - val_loss: 0.3427 - val_accuracy: 0.9250\n",
      "Epoch 20/20\n",
      "2292/2292 [==============================] - 108s 47ms/step - loss: 0.1236 - accuracy: 0.9590 - val_loss: 0.4040 - val_accuracy: 0.9248\n"
     ]
    }
   ],
   "source": [
    "history = model.fit(X_train,\n",
    "         y_train,\n",
    "          batch_size=24,\n",
    "         epochs=20,\n",
    "         validation_data=(X_val,y_val))"
   ]
  },
  {
   "cell_type": "markdown",
   "metadata": {},
   "source": [
    "### Evaluate the model\n",
    "Plot the acuracy scores as a function of epochs to see how well we train. Note that we used the ``callbacks`` option to stop after a few iterations if there was no more improvememnts"
   ]
  },
  {
   "cell_type": "code",
   "execution_count": 58,
   "metadata": {},
   "outputs": [
    {
     "name": "stdout",
     "output_type": "stream",
     "text": [
      "313/313 [==============================] - 9s 29ms/step - loss: 145.5478 - accuracy: 0.8781\n",
      "\n",
      " Test accuracy: 0.8780999779701233\n"
     ]
    },
    {
     "data": {
      "image/png": "[encoded data removed]",
      "text/plain": [
       "<Figure size 576x360 with 1 Axes>"
      ]
     },
     "metadata": {
      "needs_background": "light"
     },
     "output_type": "display_data"
    }
   ],
   "source": [
    "pd.DataFrame(history.history).plot(figsize=(8,5))\n",
    "plt.grid(True)\n",
    "plt.xlabel('epochs')\n",
    "\n",
    "# Evaluate the model on test set\n",
    "score = model.evaluate(X_test, y_test, verbose=1)\n",
    "# Print test accuracy\n",
    "print('\\n', 'Test accuracy:', score[1])\n",
    "\n"
   ]
  },
  {
   "cell_type": "markdown",
   "metadata": {},
   "source": [
    "## Example on seismic data\n",
    "\n",
    "In this class, we will use a simplified version of ConvNetQuake (Perol et al, 2018). We will use the two seismic station seismograms already labeled as \"earthquakes\" or \"noise\" to perform.\n",
    "\n",
    "\n",
    "<img src=\"fig2.jpg\" alt=\"ConvNetQuake\" style=\"width: 400px;\"/>\n",
    "\n",
    "\n",
    "### 1. read the data"
   ]
  },
  {
   "cell_type": "code",
   "execution_count": 59,
   "metadata": {},
   "outputs": [],
   "source": [
    "# load OK029 template data:\n",
    "with h5py.File(\"./data/templates_029.h5\", \"r\") as f:\n",
    "    eq1 = np.asarray(f['earthquakes']);neq1=eq1.shape[0]\n",
    "    no1 = np.asarray(f[\"noise\"])\n",
    "\n",
    "\n",
    "# load OK027 template data:\n",
    "with h5py.File(\"./data/templates_027.h5\", \"r\") as f:\n",
    "    eq2 = np.asarray(f['earthquakes'])\n",
    "    no2 = np.asarray(f[\"noise\"])"
   ]
  },
  {
   "cell_type": "markdown",
   "metadata": {},
   "source": [
    "### 2. Prep data"
   ]
  },
  {
   "cell_type": "code",
   "execution_count": 60,
   "metadata": {},
   "outputs": [
    {
     "ename": "NameError",
     "evalue": "name 'crap1' is not defined",
     "output_type": "error",
     "traceback": [
      "\u001b[0;31m---------------------------------------------------------------------------\u001b[0m",
      "\u001b[0;31mNameError\u001b[0m                                 Traceback (most recent call last)",
      "\u001b[0;32m<ipython-input-60-a5f917b0e554>\u001b[0m in \u001b[0;36m<module>\u001b[0;34m\u001b[0m\n\u001b[1;32m      8\u001b[0m \u001b[0;32mfor\u001b[0m \u001b[0miq\u001b[0m \u001b[0;32min\u001b[0m \u001b[0mrange\u001b[0m\u001b[0;34m(\u001b[0m\u001b[0mquakes\u001b[0m\u001b[0;34m.\u001b[0m\u001b[0mshape\u001b[0m\u001b[0;34m[\u001b[0m\u001b[0;36m0\u001b[0m\u001b[0;34m]\u001b[0m\u001b[0;34m)\u001b[0m\u001b[0;34m:\u001b[0m\u001b[0;34m\u001b[0m\u001b[0;34m\u001b[0m\u001b[0m\n\u001b[1;32m      9\u001b[0m     \u001b[0;32mfor\u001b[0m \u001b[0mic\u001b[0m \u001b[0;32min\u001b[0m \u001b[0mrange\u001b[0m\u001b[0;34m(\u001b[0m\u001b[0;36m3\u001b[0m\u001b[0;34m)\u001b[0m\u001b[0;34m:\u001b[0m\u001b[0;34m\u001b[0m\u001b[0;34m\u001b[0m\u001b[0m\n\u001b[0;32m---> 10\u001b[0;31m         \u001b[0;32mif\u001b[0m \u001b[0mnp\u001b[0m\u001b[0;34m.\u001b[0m\u001b[0mmax\u001b[0m\u001b[0;34m(\u001b[0m\u001b[0mnp\u001b[0m\u001b[0;34m.\u001b[0m\u001b[0mabs\u001b[0m\u001b[0;34m(\u001b[0m\u001b[0mcrap1\u001b[0m\u001b[0;34m[\u001b[0m\u001b[0miq\u001b[0m\u001b[0;34m,\u001b[0m\u001b[0mic\u001b[0m\u001b[0;34m,\u001b[0m\u001b[0;34m:\u001b[0m\u001b[0;34m]\u001b[0m\u001b[0;34m)\u001b[0m\u001b[0;34m)\u001b[0m\u001b[0;34m>\u001b[0m\u001b[0;36m0\u001b[0m\u001b[0;34m:\u001b[0m\u001b[0;34m\u001b[0m\u001b[0;34m\u001b[0m\u001b[0m\n\u001b[0m\u001b[1;32m     11\u001b[0m             \u001b[0mquakes\u001b[0m\u001b[0;34m[\u001b[0m\u001b[0miq\u001b[0m\u001b[0;34m,\u001b[0m\u001b[0;34m:\u001b[0m\u001b[0;34m,\u001b[0m\u001b[0mic\u001b[0m\u001b[0;34m]\u001b[0m\u001b[0;34m=\u001b[0m\u001b[0mcrap1\u001b[0m\u001b[0;34m[\u001b[0m\u001b[0miq\u001b[0m\u001b[0;34m,\u001b[0m\u001b[0mic\u001b[0m\u001b[0;34m,\u001b[0m\u001b[0;34m:\u001b[0m\u001b[0;34m]\u001b[0m\u001b[0;34m/\u001b[0m\u001b[0mnp\u001b[0m\u001b[0;34m.\u001b[0m\u001b[0mmax\u001b[0m\u001b[0;34m(\u001b[0m\u001b[0mnp\u001b[0m\u001b[0;34m.\u001b[0m\u001b[0mabs\u001b[0m\u001b[0;34m(\u001b[0m\u001b[0mcrap1\u001b[0m\u001b[0;34m[\u001b[0m\u001b[0miq\u001b[0m\u001b[0;34m,\u001b[0m\u001b[0mic\u001b[0m\u001b[0;34m,\u001b[0m\u001b[0;34m:\u001b[0m\u001b[0;34m]\u001b[0m\u001b[0;34m)\u001b[0m\u001b[0;34m)\u001b[0m\u001b[0;34m\u001b[0m\u001b[0;34m\u001b[0m\u001b[0m\n\u001b[1;32m     12\u001b[0m         \u001b[0;32mif\u001b[0m \u001b[0mnp\u001b[0m\u001b[0;34m.\u001b[0m\u001b[0mmax\u001b[0m\u001b[0;34m(\u001b[0m\u001b[0mnp\u001b[0m\u001b[0;34m.\u001b[0m\u001b[0mabs\u001b[0m\u001b[0;34m(\u001b[0m\u001b[0mcrap2\u001b[0m\u001b[0;34m[\u001b[0m\u001b[0miq\u001b[0m\u001b[0;34m,\u001b[0m\u001b[0mic\u001b[0m\u001b[0;34m,\u001b[0m\u001b[0;34m:\u001b[0m\u001b[0;34m]\u001b[0m\u001b[0;34m)\u001b[0m\u001b[0;34m)\u001b[0m\u001b[0;34m>\u001b[0m\u001b[0;36m0\u001b[0m\u001b[0;34m:\u001b[0m\u001b[0;34m\u001b[0m\u001b[0;34m\u001b[0m\u001b[0m\n",
      "\u001b[0;31mNameError\u001b[0m: name 'crap1' is not defined"
     ]
    }
   ],
   "source": [
    "#  allocate memory\n",
    "quakes=np.zeros(shape=(eq1.shape[0],1000,3),dtype=np.float32)\n",
    "noise=np.zeros(shape=(no1.shape[0],1000,3),dtype=np.float32)\n",
    "quakes2=np.zeros(shape=(eq2.shape[0],1000,3),dtype=np.float32)\n",
    "noise2=np.zeros(shape=(no2.shape[0],1000,3),dtype=np.float32)\n",
    "\n",
    "# Normalize the seismograms to their peak amplitudes\n",
    "for iq in range(quakes.shape[0]):\n",
    "    for ic in range(3):\n",
    "        if np.max(np.abs(crap1[iq,ic,:]))>0:\n",
    "            quakes[iq,:,ic]=crap1[iq,ic,:]/np.max(np.abs(crap1[iq,ic,:]))\n",
    "        if np.max(np.abs(crap2[iq,ic,:]))>0:\n",
    "            noise[iq,:,ic]=crap2[iq,ic,:]/np.max(np.abs(crap2[iq,ic,:]))\n",
    "\n",
    "for iq in range(len(crap1[:,1,1])):\n",
    "    for ic in range(3):\n",
    "        if np.max(np.abs(crap1[iq,ic,:]))>0:\n",
    "            quakes2[iq,:,ic]=crap1[iq,ic,:]/np.max(np.abs(crap1[iq,ic,:]))\n",
    "        if np.max(np.abs(crap2[iq,ic,:]))>0:\n",
    "            noise2[iq,:,ic]=crap2[iq,ic,:]/np.max(np.abs(crap2[iq,ic,:]))\n",
    "            \n",
    "# select data that is strictly positive and finite\n",
    "iq1=np.where( ( np.abs(quakes[:,0,0])>0)&(np.isfinite(quakes[:,0,0])))[0]\n",
    "iq2=np.where( (np.abs(quakes2[:,0,0])>0)&(np.isfinite(quakes2[:,0,0])))[0]"
   ]
  },
  {
   "cell_type": "code",
   "execution_count": null,
   "metadata": {},
   "outputs": [],
   "source": [
    "# label & data\n",
    "y = np.concatenate((np.ones(len(iq1)+len(iq2),dtype=np.int),np.zeros(len(iq1)+len(iq2),dtype=np.int))) # 0 for noise, 1 for event\n",
    "# X = np.zeros(shape=(len(train_labels),1000,3,1))\n",
    "X= np.concatenate((quakes[iq1,:,:],quakes2[iq2,:,:],noise[iq1,:,:],noise2[iq2,:,:]),axis=0)\n",
    "X=X[...,None]# add that depth/channel dimension\n",
    "\n",
    "nlabels=2 # = len(np.unique(y))\n",
    "\n",
    "# Split train and test\n",
    "X_train, X_test, y_train, y_test = train_test_split(X, y, test_size=.2)"
   ]
  },
  {
   "cell_type": "markdown",
   "metadata": {},
   "source": [
    "### 3 Define ML model"
   ]
  },
  {
   "cell_type": "code",
   "execution_count": null,
   "metadata": {},
   "outputs": [],
   "source": [
    "l2 = 1E-4 # L2 norm regularization\n",
    "\n",
    "# building the architecture\n",
    "model = models.Sequential()\n",
    "model.add(layers.Conv2D(32, (3, 3), activation='relu', input_shape=(1000,3,1), use_bias=True, strides=(2,2), kernel_regularizer=regularizers.l2(l2), padding='SAME'))\n",
    "model.add(layers.Conv2D(32, (3, 3), activation='relu', use_bias=True, strides=(2,2), kernel_regularizer=regularizers.l2(l2), padding='SAME'))\n",
    "model.add(layers.Conv2D(32, (3, 3), activation='relu', use_bias=True, strides=2, kernel_regularizer=regularizers.l2(l2), padding='SAME'))\n",
    "model.add(layers.Conv2D(32, (3, 3), activation='relu', use_bias=True, strides=2, kernel_regularizer=regularizers.l2(l2), padding='SAME'))\n",
    "model.add(layers.Conv2D(32, (3, 3), activation='relu', use_bias=True, strides=2, kernel_regularizer=regularizers.l2(l2), padding='SAME'))\n",
    "model.add(layers.Conv2D(32, (3, 3), activation='relu', use_bias=True, strides=2, kernel_regularizer=regularizers.l2(l2), padding='SAME'))\n",
    "model.add(layers.Conv2D(32, (3, 3), activation='relu', use_bias=True, strides=2, kernel_regularizer=regularizers.l2(l2), padding='SAME'))\n",
    "model.add(layers.Conv2D(32, (3, 3), activation='relu', use_bias=True, strides=2, kernel_regularizer=regularizers.l2(l2), padding='SAME'))\n",
    "model.add(layers.Flatten())\n",
    "model.add(layers.Dense(nlabels, activation='softmax'))"
   ]
  },
  {
   "cell_type": "code",
   "execution_count": null,
   "metadata": {},
   "outputs": [],
   "source": [
    "# compile the network\n",
    "model.compile(optimizer='adam',loss='binary_crossentropy',metrics=['accuracy'])"
   ]
  },
  {
   "cell_type": "code",
   "execution_count": null,
   "metadata": {},
   "outputs": [],
   "source": [
    "# training\n",
    "history=model.fit(X_train,y_train,validation_split=0.2, epochs=20, batch_size=128,shuffle=True) \n"
   ]
  },
  {
   "cell_type": "code",
   "execution_count": null,
   "metadata": {},
   "outputs": [],
   "source": [
    "# check for overfitting\n",
    "history_dic = history.history\n",
    "loss_values = history_dic['loss']\n",
    "val_loss_values = history_dic['val_loss']\n",
    "acc_values = history_dic['acc']\n",
    "val_acc_values = history_dic['val_acc']\n",
    "epochs=range(1,len(loss_values)+1)\n",
    "fig,ax=plt.subplots(2)\n",
    "ax[0].plot(epochs,loss_values,'bo',label='Training loss')\n",
    "ax[0].plot(epochs,val_loss_values,'b',label='Validation loss')\n",
    "ax[0].set_title('Training and validation loss')\n",
    "ax[0].set_xlabel('Epochs')\n",
    "ax[0].set_ylabel('Loss')\n",
    "ax[0].legend()\n",
    "ax[1].plot(epochs,acc_values,'bo',label='Training accuracy')\n",
    "ax[1].plot(epochs,val_acc_values,'b',label='Validation accuracy')\n",
    "ax[1].set_title('Training and validation accuracy')\n",
    "ax[1].set_xlabel('Epochs')\n",
    "ax[1].set_ylabel('accuracy')\n",
    "ax[1].legend()\n",
    "plt.show()\n"
   ]
  },
  {
   "cell_type": "code",
   "execution_count": null,
   "metadata": {},
   "outputs": [],
   "source": [
    "# testing\n",
    "test=model.evaluate(X_test,y_test,batch_size=64,verbose=1)\n",
    "print('loss and accuracy at test')\n",
    "print(test)"
   ]
  },
  {
   "cell_type": "markdown",
   "metadata": {},
   "source": [
    "## Tuning CNN networks\n",
    "\n",
    "There are many hyperparameters and model choices to make:\n",
    "* learning rate, optimizer, batch_size, activation functions, loss functions\n",
    "* architecture: number of layers, depth of kernels, activation functions, regularization, batch normalization\n",
    "\n",
    "One can treat the hyperparameter search as an optimization problem. Keras tuner (https://keras-team.github.io/keras-tuner/) can be used to randomize the grid search."
   ]
  },
  {
   "cell_type": "code",
   "execution_count": null,
   "metadata": {},
   "outputs": [],
   "source": []
  }
 ],
 "metadata": {
  "kernelspec": {
   "display_name": "Python 3",
   "language": "python",
   "name": "python3"
  },
  "language_info": {
   "codemirror_mode": {
    "name": "ipython",
    "version": 3
   },
   "file_extension": ".py",
   "mimetype": "text/x-python",
   "name": "python",
   "nbconvert_exporter": "python",
   "pygments_lexer": "ipython3",
   "version": "3.8.5"
  }
 },
 "nbformat": 4,
 "nbformat_minor": 5
}
