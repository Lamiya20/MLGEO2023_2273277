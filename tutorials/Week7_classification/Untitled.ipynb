{
 "cells": [
  {
   "cell_type": "markdown",
   "id": "68fa0dc4-7bf1-459a-953f-96bdea4bd69a",
   "metadata": {},
   "source": [
    "# Model Performance\n",
    "\n",
    "We need to measure how well the prediction matches the observed data. How close is the prediction to the true observation? The most commonly-used measure is the *mean squared error* (MSE):\n",
    "\n",
    "$MSE = \\frac{1}{n} \\sum_{i=1}^{n} (y_i- f(x_i))^2$"
   ]
  }
 ],
 "metadata": {
  "kernelspec": {
   "display_name": "Python 3",
   "language": "python",
   "name": "python3"
  },
  "language_info": {
   "codemirror_mode": {
    "name": "ipython",
    "version": 3
   },
   "file_extension": ".py",
   "mimetype": "text/x-python",
   "name": "python",
   "nbconvert_exporter": "python",
   "pygments_lexer": "ipython3",
   "version": "3.9.2"
  }
 },
 "nbformat": 4,
 "nbformat_minor": 5
}
