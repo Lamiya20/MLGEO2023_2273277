{
 "cells": [
  {
   "cell_type": "markdown",
   "metadata": {},
   "source": [
    "## Chap 2.6: Feature engineering\n",
    "\n",
    "\n",
    "The process of feature engineering is of manipulating, transforming, selecting raw data into features that can be used in statistical analysis of prediction.\n",
    "\n",
    "* statistical features\n",
    "* temporal features\n",
    "* spectral features (Fourier and Wavelet transforms)\n",
    "\n",
    "We will download seismic data and work using the TSFEL package to extract features. Because TSFEL is not in the conda registry, we have to install it using pip."
   ]
  },
  {
   "cell_type": "code",
   "execution_count": 1,
   "metadata": {},
   "outputs": [
    {
     "name": "stdout",
     "output_type": "stream",
     "text": [
      "Requirement already satisfied: tsfel in /Users/marinedenolle/opt/miniconda3/envs/mlgeo_sk/lib/python3.9/site-packages (0.1.4)\n",
      "Requirement already satisfied: Sphinx>=1.8.5 in /Users/marinedenolle/opt/miniconda3/envs/mlgeo_sk/lib/python3.9/site-packages (from tsfel) (5.3.0)\n",
      "Requirement already satisfied: setuptools>=47.1.1 in /Users/marinedenolle/opt/miniconda3/envs/mlgeo_sk/lib/python3.9/site-packages (from tsfel) (65.4.1)\n",
      "Requirement already satisfied: pandas>=0.25.3 in /Users/marinedenolle/opt/miniconda3/envs/mlgeo_sk/lib/python3.9/site-packages (from tsfel) (1.5.0)\n",
      "Requirement already satisfied: gspread>=3.1.0 in /Users/marinedenolle/opt/miniconda3/envs/mlgeo_sk/lib/python3.9/site-packages (from tsfel) (5.6.0)\n",
      "Requirement already satisfied: oauth2client>=4.1.3 in /Users/marinedenolle/opt/miniconda3/envs/mlgeo_sk/lib/python3.9/site-packages (from tsfel) (4.1.3)\n",
      "Requirement already satisfied: ipython>=7.4.0 in /Users/marinedenolle/opt/miniconda3/envs/mlgeo_sk/lib/python3.9/site-packages (from tsfel) (8.5.0)\n",
      "Requirement already satisfied: scipy>=1.5.1 in /Users/marinedenolle/opt/miniconda3/envs/mlgeo_sk/lib/python3.9/site-packages (from tsfel) (1.9.2)\n",
      "Requirement already satisfied: numpy>=1.18.5 in /Users/marinedenolle/opt/miniconda3/envs/mlgeo_sk/lib/python3.9/site-packages (from tsfel) (1.23.4)\n",
      "Requirement already satisfied: google-auth-oauthlib>=0.4.1 in /Users/marinedenolle/opt/miniconda3/envs/mlgeo_sk/lib/python3.9/site-packages (from gspread>=3.1.0->tsfel) (0.5.3)\n",
      "Requirement already satisfied: google-auth>=1.12.0 in /Users/marinedenolle/opt/miniconda3/envs/mlgeo_sk/lib/python3.9/site-packages (from gspread>=3.1.0->tsfel) (2.13.0)\n",
      "Requirement already satisfied: six>=1.9.0 in /Users/marinedenolle/opt/miniconda3/envs/mlgeo_sk/lib/python3.9/site-packages (from google-auth>=1.12.0->gspread>=3.1.0->tsfel) (1.16.0)\n",
      "Requirement already satisfied: rsa<5,>=3.1.4 in /Users/marinedenolle/opt/miniconda3/envs/mlgeo_sk/lib/python3.9/site-packages (from google-auth>=1.12.0->gspread>=3.1.0->tsfel) (4.9)\n",
      "Requirement already satisfied: cachetools<6.0,>=2.0.0 in /Users/marinedenolle/opt/miniconda3/envs/mlgeo_sk/lib/python3.9/site-packages (from google-auth>=1.12.0->gspread>=3.1.0->tsfel) (5.2.0)\n",
      "Requirement already satisfied: pyasn1-modules>=0.2.1 in /Users/marinedenolle/opt/miniconda3/envs/mlgeo_sk/lib/python3.9/site-packages (from google-auth>=1.12.0->gspread>=3.1.0->tsfel) (0.2.8)\n",
      "Requirement already satisfied: requests-oauthlib>=0.7.0 in /Users/marinedenolle/opt/miniconda3/envs/mlgeo_sk/lib/python3.9/site-packages (from google-auth-oauthlib>=0.4.1->gspread>=3.1.0->tsfel) (1.3.1)\n",
      "Requirement already satisfied: prompt-toolkit<3.1.0,>3.0.1 in /Users/marinedenolle/opt/miniconda3/envs/mlgeo_sk/lib/python3.9/site-packages (from ipython>=7.4.0->tsfel) (3.0.31)\n",
      "Requirement already satisfied: traitlets>=5 in /Users/marinedenolle/opt/miniconda3/envs/mlgeo_sk/lib/python3.9/site-packages (from ipython>=7.4.0->tsfel) (5.4.0)\n",
      "Requirement already satisfied: jedi>=0.16 in /Users/marinedenolle/opt/miniconda3/envs/mlgeo_sk/lib/python3.9/site-packages (from ipython>=7.4.0->tsfel) (0.18.1)\n",
      "Requirement already satisfied: pygments>=2.4.0 in /Users/marinedenolle/opt/miniconda3/envs/mlgeo_sk/lib/python3.9/site-packages (from ipython>=7.4.0->tsfel) (2.13.0)\n",
      "Requirement already satisfied: pexpect>4.3 in /Users/marinedenolle/opt/miniconda3/envs/mlgeo_sk/lib/python3.9/site-packages (from ipython>=7.4.0->tsfel) (4.8.0)\n",
      "Requirement already satisfied: appnope in /Users/marinedenolle/opt/miniconda3/envs/mlgeo_sk/lib/python3.9/site-packages (from ipython>=7.4.0->tsfel) (0.1.3)\n",
      "Requirement already satisfied: backcall in /Users/marinedenolle/opt/miniconda3/envs/mlgeo_sk/lib/python3.9/site-packages (from ipython>=7.4.0->tsfel) (0.2.0)\n",
      "Requirement already satisfied: stack-data in /Users/marinedenolle/opt/miniconda3/envs/mlgeo_sk/lib/python3.9/site-packages (from ipython>=7.4.0->tsfel) (0.5.1)\n",
      "Requirement already satisfied: pickleshare in /Users/marinedenolle/opt/miniconda3/envs/mlgeo_sk/lib/python3.9/site-packages (from ipython>=7.4.0->tsfel) (0.7.5)\n",
      "Requirement already satisfied: decorator in /Users/marinedenolle/opt/miniconda3/envs/mlgeo_sk/lib/python3.9/site-packages (from ipython>=7.4.0->tsfel) (5.1.1)\n",
      "Requirement already satisfied: matplotlib-inline in /Users/marinedenolle/opt/miniconda3/envs/mlgeo_sk/lib/python3.9/site-packages (from ipython>=7.4.0->tsfel) (0.1.6)\n",
      "Requirement already satisfied: parso<0.9.0,>=0.8.0 in /Users/marinedenolle/opt/miniconda3/envs/mlgeo_sk/lib/python3.9/site-packages (from jedi>=0.16->ipython>=7.4.0->tsfel) (0.8.3)\n",
      "Requirement already satisfied: httplib2>=0.9.1 in /Users/marinedenolle/opt/miniconda3/envs/mlgeo_sk/lib/python3.9/site-packages (from oauth2client>=4.1.3->tsfel) (0.20.4)\n",
      "Requirement already satisfied: pyasn1>=0.1.7 in /Users/marinedenolle/opt/miniconda3/envs/mlgeo_sk/lib/python3.9/site-packages (from oauth2client>=4.1.3->tsfel) (0.4.8)\n",
      "Requirement already satisfied: pyparsing!=3.0.0,!=3.0.1,!=3.0.2,!=3.0.3,<4,>=2.4.2 in /Users/marinedenolle/opt/miniconda3/envs/mlgeo_sk/lib/python3.9/site-packages (from httplib2>=0.9.1->oauth2client>=4.1.3->tsfel) (3.0.9)\n",
      "Requirement already satisfied: python-dateutil>=2.8.1 in /Users/marinedenolle/opt/miniconda3/envs/mlgeo_sk/lib/python3.9/site-packages (from pandas>=0.25.3->tsfel) (2.8.2)\n",
      "Requirement already satisfied: pytz>=2020.1 in /Users/marinedenolle/opt/miniconda3/envs/mlgeo_sk/lib/python3.9/site-packages (from pandas>=0.25.3->tsfel) (2022.4)\n",
      "Requirement already satisfied: ptyprocess>=0.5 in /Users/marinedenolle/opt/miniconda3/envs/mlgeo_sk/lib/python3.9/site-packages (from pexpect>4.3->ipython>=7.4.0->tsfel) (0.7.0)\n",
      "Requirement already satisfied: wcwidth in /Users/marinedenolle/opt/miniconda3/envs/mlgeo_sk/lib/python3.9/site-packages (from prompt-toolkit<3.1.0,>3.0.1->ipython>=7.4.0->tsfel) (0.2.5)\n",
      "Requirement already satisfied: requests>=2.0.0 in /Users/marinedenolle/opt/miniconda3/envs/mlgeo_sk/lib/python3.9/site-packages (from requests-oauthlib>=0.7.0->google-auth-oauthlib>=0.4.1->gspread>=3.1.0->tsfel) (2.28.1)\n",
      "Requirement already satisfied: oauthlib>=3.0.0 in /Users/marinedenolle/opt/miniconda3/envs/mlgeo_sk/lib/python3.9/site-packages (from requests-oauthlib>=0.7.0->google-auth-oauthlib>=0.4.1->gspread>=3.1.0->tsfel) (3.2.2)\n",
      "Requirement already satisfied: idna<4,>=2.5 in /Users/marinedenolle/opt/miniconda3/envs/mlgeo_sk/lib/python3.9/site-packages (from requests>=2.0.0->requests-oauthlib>=0.7.0->google-auth-oauthlib>=0.4.1->gspread>=3.1.0->tsfel) (3.4)\n",
      "Requirement already satisfied: certifi>=2017.4.17 in /Users/marinedenolle/opt/miniconda3/envs/mlgeo_sk/lib/python3.9/site-packages (from requests>=2.0.0->requests-oauthlib>=0.7.0->google-auth-oauthlib>=0.4.1->gspread>=3.1.0->tsfel) (2022.9.24)\n",
      "Requirement already satisfied: urllib3<1.27,>=1.21.1 in /Users/marinedenolle/opt/miniconda3/envs/mlgeo_sk/lib/python3.9/site-packages (from requests>=2.0.0->requests-oauthlib>=0.7.0->google-auth-oauthlib>=0.4.1->gspread>=3.1.0->tsfel) (1.26.11)\n",
      "Requirement already satisfied: charset-normalizer<3,>=2 in /Users/marinedenolle/opt/miniconda3/envs/mlgeo_sk/lib/python3.9/site-packages (from requests>=2.0.0->requests-oauthlib>=0.7.0->google-auth-oauthlib>=0.4.1->gspread>=3.1.0->tsfel) (2.1.1)\n",
      "Requirement already satisfied: Jinja2>=3.0 in /Users/marinedenolle/opt/miniconda3/envs/mlgeo_sk/lib/python3.9/site-packages (from Sphinx>=1.8.5->tsfel) (3.1.2)\n",
      "Requirement already satisfied: docutils<0.20,>=0.14 in /Users/marinedenolle/opt/miniconda3/envs/mlgeo_sk/lib/python3.9/site-packages (from Sphinx>=1.8.5->tsfel) (0.19)\n",
      "Requirement already satisfied: babel>=2.9 in /Users/marinedenolle/opt/miniconda3/envs/mlgeo_sk/lib/python3.9/site-packages (from Sphinx>=1.8.5->tsfel) (2.10.3)\n",
      "Requirement already satisfied: snowballstemmer>=2.0 in /Users/marinedenolle/opt/miniconda3/envs/mlgeo_sk/lib/python3.9/site-packages (from Sphinx>=1.8.5->tsfel) (2.2.0)\n",
      "Requirement already satisfied: sphinxcontrib-serializinghtml>=1.1.5 in /Users/marinedenolle/opt/miniconda3/envs/mlgeo_sk/lib/python3.9/site-packages (from Sphinx>=1.8.5->tsfel) (1.1.5)\n",
      "Requirement already satisfied: alabaster<0.8,>=0.7 in /Users/marinedenolle/opt/miniconda3/envs/mlgeo_sk/lib/python3.9/site-packages (from Sphinx>=1.8.5->tsfel) (0.7.12)\n",
      "Requirement already satisfied: imagesize>=1.3 in /Users/marinedenolle/opt/miniconda3/envs/mlgeo_sk/lib/python3.9/site-packages (from Sphinx>=1.8.5->tsfel) (1.4.1)\n",
      "Requirement already satisfied: packaging>=21.0 in /Users/marinedenolle/opt/miniconda3/envs/mlgeo_sk/lib/python3.9/site-packages (from Sphinx>=1.8.5->tsfel) (21.3)\n",
      "Requirement already satisfied: sphinxcontrib-htmlhelp>=2.0.0 in /Users/marinedenolle/opt/miniconda3/envs/mlgeo_sk/lib/python3.9/site-packages (from Sphinx>=1.8.5->tsfel) (2.0.0)\n",
      "Requirement already satisfied: sphinxcontrib-devhelp in /Users/marinedenolle/opt/miniconda3/envs/mlgeo_sk/lib/python3.9/site-packages (from Sphinx>=1.8.5->tsfel) (1.0.2)\n",
      "Requirement already satisfied: sphinxcontrib-qthelp in /Users/marinedenolle/opt/miniconda3/envs/mlgeo_sk/lib/python3.9/site-packages (from Sphinx>=1.8.5->tsfel) (1.0.3)\n",
      "Requirement already satisfied: importlib-metadata>=4.8 in /Users/marinedenolle/opt/miniconda3/envs/mlgeo_sk/lib/python3.9/site-packages (from Sphinx>=1.8.5->tsfel) (4.11.4)\n",
      "Requirement already satisfied: sphinxcontrib-applehelp in /Users/marinedenolle/opt/miniconda3/envs/mlgeo_sk/lib/python3.9/site-packages (from Sphinx>=1.8.5->tsfel) (1.0.2)\n",
      "Requirement already satisfied: sphinxcontrib-jsmath in /Users/marinedenolle/opt/miniconda3/envs/mlgeo_sk/lib/python3.9/site-packages (from Sphinx>=1.8.5->tsfel) (1.0.1)\n",
      "Requirement already satisfied: zipp>=0.5 in /Users/marinedenolle/opt/miniconda3/envs/mlgeo_sk/lib/python3.9/site-packages (from importlib-metadata>=4.8->Sphinx>=1.8.5->tsfel) (3.9.0)\n",
      "Requirement already satisfied: MarkupSafe>=2.0 in /Users/marinedenolle/opt/miniconda3/envs/mlgeo_sk/lib/python3.9/site-packages (from Jinja2>=3.0->Sphinx>=1.8.5->tsfel) (2.1.1)\n",
      "Requirement already satisfied: pure-eval in /Users/marinedenolle/opt/miniconda3/envs/mlgeo_sk/lib/python3.9/site-packages (from stack-data->ipython>=7.4.0->tsfel) (0.2.2)\n",
      "Requirement already satisfied: executing in /Users/marinedenolle/opt/miniconda3/envs/mlgeo_sk/lib/python3.9/site-packages (from stack-data->ipython>=7.4.0->tsfel) (1.1.1)\n",
      "Requirement already satisfied: asttokens in /Users/marinedenolle/opt/miniconda3/envs/mlgeo_sk/lib/python3.9/site-packages (from stack-data->ipython>=7.4.0->tsfel) (2.0.8)\n",
      "Note: you may need to restart the kernel to use updated packages.\n"
     ]
    }
   ],
   "source": [
    "%pip install tsfel"
   ]
  },
  {
   "cell_type": "code",
   "execution_count": 1,
   "metadata": {},
   "outputs": [
    {
     "ename": "ModuleNotFoundError",
     "evalue": "No module named 'obspy'",
     "output_type": "error",
     "traceback": [
      "\u001b[0;31m---------------------------------------------------------------------------\u001b[0m",
      "\u001b[0;31mModuleNotFoundError\u001b[0m                       Traceback (most recent call last)",
      "Cell \u001b[0;32mIn [1], line 2\u001b[0m\n\u001b[1;32m      1\u001b[0m \u001b[39m# Import modules for seismic data and feature extraction\u001b[39;00m\n\u001b[0;32m----> 2\u001b[0m \u001b[39mimport\u001b[39;00m \u001b[39mobspy\u001b[39;00m\n\u001b[1;32m      3\u001b[0m \u001b[39mimport\u001b[39;00m \u001b[39mnumpy\u001b[39;00m \u001b[39mas\u001b[39;00m \u001b[39mnp\u001b[39;00m\n\u001b[1;32m      4\u001b[0m \u001b[39mimport\u001b[39;00m \u001b[39mtsfel\u001b[39;00m\n",
      "\u001b[0;31mModuleNotFoundError\u001b[0m: No module named 'obspy'"
     ]
    }
   ],
   "source": [
    "# Import modules for seismic data and feature extraction\n",
    "import obspy\n",
    "import numpy as np\n",
    "import tsfel\n",
    "\n",
    "import obspy.clients.fdsn.client as fdsn\n",
    "from obspy import UTCDateTime\n",
    "\n"
   ]
  },
  {
   "cell_type": "markdown",
   "metadata": {},
   "source": [
    "We will use a time series from a seismic record of the 10/7/2022 M4.4 Earthquake in Oregon. The earthquake had a moderate size but was felt by many citizens.\n",
    "\n",
    "<div>\n",
    "<img src=\"uw61886506_ciim_geo.jpeg\" width=\"500\"/>\n",
    "</div>\n",
    "\n",
    "We will first download data from the PNSN seismic station UW.MRIN."
   ]
  },
  {
   "cell_type": "code",
   "execution_count": null,
   "metadata": {},
   "outputs": [],
   "source": [
    "# Solution\n",
    "network = 'UW'\n",
    "station = 'MRIN'\n",
    "channel = 'ENZ'# this channel gives a low frequency, 1Hz signal.\n",
    "Tstart = UTCDateTime(year=2022, month=10, day=7)\n",
    "Tend = UTCDateTime(year=2022, month=10, day=8)\n",
    "fdsn_client = fdsn.Client('IRIS')\n",
    "Z = fdsn_client.get_waveforms(network=network, station=station, location='--', channel=channel, starttime=Tstart, \\\n",
    "    endtime=Tend, attach_response=True)\n",
    "Z.detrend()\n",
    "Z.merge()\n",
    "Z.plot()\n",
    "T = np.linspace(0,(Tend-Tstart),Z[0].stats.npts)"
   ]
  }
 ],
 "metadata": {
  "kernelspec": {
   "display_name": "Python 3.8.13",
   "language": "python",
   "name": "python3"
  },
  "language_info": {
   "codemirror_mode": {
    "name": "ipython",
    "version": 3
   },
   "file_extension": ".py",
   "mimetype": "text/x-python",
   "name": "python",
   "nbconvert_exporter": "python",
   "pygments_lexer": "ipython3",
   "version": "3.9.13"
  },
  "orig_nbformat": 4,
  "vscode": {
   "interpreter": {
    "hash": "f625eed87f201675869c1975f26c79747f846dd12cd9c70305bdb23b2c204f1d"
   }
  }
 },
 "nbformat": 4,
 "nbformat_minor": 2
}
