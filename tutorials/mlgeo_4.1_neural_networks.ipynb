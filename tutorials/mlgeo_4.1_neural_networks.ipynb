{
 "cells": [
  {
   "cell_type": "markdown",
   "metadata": {},
   "source": [
    "# 4.1 Neural Networks - Single Perceptron\n",
    "\n",
    "A linear regression is a single, fully connected neuron.\n",
    "\n",
    "![Single Neuron](./figures/TLU.png)\n",
    "\n",
    "The simplest neural network is a logistic regression\n",
    "\n",
    "$y = f( \\sum_{i=1}^3  (w_i x_i + b_i))$,\n",
    "\n",
    "where $y$ is the output, $w_i$, are the weights, $b_i$ are the biases in the neuron, and $f$ is an activation function (e.g., sigmoid, ReLu, etc)\n",
    "\n",
    "For classification problem, it is called a Threshold Logic Unit TLU because it outputs a linear combination of the inputs, and if the result exceeds a threshold, it outputs the positive class.\n",
    "\n",
    "A perceptron is a single layer of TLUs, which each TLU connected to all the inputs. \n",
    "\n",
    "**Logistic regression: It is just a one layer neural network classifier**\n",
    "\n",
    "We will explore the classification problem with NN.\n"
   ]
  },
  {
   "cell_type": "code",
   "execution_count": 1,
   "metadata": {},
   "outputs": [],
   "source": [
    "\n",
    "import torch\n",
    "import torchvision\n",
    "import torch.nn as nn\n",
    "import torch.optim as optim "
   ]
  },
  {
   "cell_type": "code",
   "execution_count": 2,
   "metadata": {},
   "outputs": [],
   "source": [
    "import torch\n",
    "from torch.utils.data import Dataset\n",
    "from torchvision import datasets\n",
    "from torchvision.transforms import ToTensor\n",
    "from torchvision.transforms import transforms\n",
    "import matplotlib.pyplot as plt\n",
    "import sklearn\n",
    "import pandas as pd\n",
    "import numpy as np"
   ]
  },
  {
   "cell_type": "markdown",
   "metadata": {},
   "source": [
    "## Load a data set\n",
    "\n",
    "We will read a dataset and convert into a format readable by PyTorch.\n",
    "\n",
    "We are going to do multi-class classification. We have a dataset of images of digits (0 to 9). Each image is made of 16 * 16 pixels in grey scale. "
   ]
  },
  {
   "cell_type": "code",
   "execution_count": 3,
   "metadata": {},
   "outputs": [],
   "source": [
    "from torch.utils.data import Dataset, DataLoader\n",
    "from sklearn.datasets import load_digits,fetch_openml\n",
    "from sklearn.preprocessing import StandardScaler\n",
    "from torch.utils.data.sampler import SubsetRandomSampler\n",
    "from sklearn.model_selection import train_test_split\n",
    "digits = load_digits()\n",
    "digits.keys()\n",
    "X,y=digits.data,digits.target"
   ]
  },
  {
   "cell_type": "markdown",
   "metadata": {},
   "source": [
    "Classes in Python are objects that are a colletion of methods. Methods are defined as ``__method__``. For most data preparation classes, one could follow the template below:"
   ]
  },
  {
   "cell_type": "code",
   "execution_count": 4,
   "metadata": {},
   "outputs": [],
   "source": [
    "class PrepareData(Dataset):\n",
    "\n",
    "    def __init__(self, X, y, scale_X=True):\n",
    "        if not torch.is_tensor(X):\n",
    "            if scale_X:\n",
    "                X = StandardScaler().fit_transform(X)\n",
    "                self.X = torch.from_numpy(X)\n",
    "        if not torch.is_tensor(y):\n",
    "            self.y = torch.from_numpy(y)\n",
    "\n",
    "    def __len__(self):\n",
    "        return len(self.X)\n",
    "\n",
    "    def __getitem__(self, idx):\n",
    "        return self.X[idx], self.y[idx]"
   ]
  },
  {
   "cell_type": "markdown",
   "metadata": {},
   "source": [
    "PyTorch requires its own data structure. We used Numpy arrays so far, but we have to convert them into Torch tensors. This is possible using the function ``torch.from_numpy()``.\n",
    "\n",
    "Below, we will prepare the training and test sets of the MNIST images using sklearn and pytorch functions."
   ]
  },
  {
   "cell_type": "code",
   "execution_count": 5,
   "metadata": {},
   "outputs": [
    {
     "name": "stdout",
     "output_type": "stream",
     "text": [
      "<torch.utils.data.dataloader.DataLoader object at 0x10ee8b190>\n"
     ]
    }
   ],
   "source": [
    "\n",
    "ds = PrepareData(X, y=y, scale_X=True)\n",
    "\n",
    "\n",
    "input_size = 16*16\n",
    "batch_size = 50\n",
    "# find the indexes of the training and test sets.\n",
    "itrain, itest = train_test_split(list(range(X.shape[0])), test_size=.3)\n",
    "\n",
    "# load data for torch inputs for training and testing\n",
    "train_set = DataLoader(ds, batch_size=batch_size,\n",
    "                       sampler=SubsetRandomSampler(itrain))\n",
    "test_set = DataLoader(ds, batch_size=batch_size,\n",
    "                      sampler=SubsetRandomSampler(itest))\n",
    "print(train_set)"
   ]
  },
  {
   "cell_type": "markdown",
   "metadata": {},
   "source": [
    "A second  approach is to prepare the data from zip files and convert them to torch tensors. The training file and the test file are made of 257 columns: the first column is the label, the next 256 columns are the corresponding value for each of the 16 * 16 = 256 pixels. There is one image per row."
   ]
  },
  {
   "cell_type": "code",
   "execution_count": 6,
   "metadata": {},
   "outputs": [],
   "source": [
    "# Dataset is a class already defined in PyTorch. \n",
    "# We are going to create a subclass of Dataset\n",
    "class ZipDataset(Dataset):\n",
    "    def __init__(self, images, labels=None, transforms=None):\n",
    "        # Let us define the attributes of a ZipDataset\n",
    "        self.X = images # that will be train_images or test_images\n",
    "        self.y = labels # that will be train_labels or test_labels\n",
    "        # When we create an object of class ZipDataset, we can specify the transformation to apply to the data \n",
    "        self.transforms = transforms\n",
    "         \n",
    "    def __len__(self):\n",
    "        # The length of the dataset is the number of images in the dataset\n",
    "        return (len(self.X))\n",
    "    \n",
    "    def __getitem__(self, i):\n",
    "        # How to access one pair of (image, label) from the dataset?\n",
    "        # We access the ith row (which contains the 16*16 = 256 pixels of an image)\n",
    "        data = self.X.iloc[i, :]\n",
    "        # We tranform it into a numpy array and reshape it to an image format\n",
    "        data = np.asarray(data).reshape(16, 16, 1)\n",
    "        # We apply the required transformation to the image\n",
    "        if self.transforms:\n",
    "            data = self.transforms(data)\n",
    "        # If there is a label associated to it, we return it together with the image\n",
    "        if self.y is not None:\n",
    "            return (data, self.y[i])\n",
    "        else:\n",
    "            return data"
   ]
  },
  {
   "cell_type": "code",
   "execution_count": 7,
   "metadata": {},
   "outputs": [],
   "source": [
    "df_train = pd.read_csv('zip.train', header=None, sep='\\s+')\n",
    "df_test = pd.read_csv('zip.test', header=None, sep='\\s+')\n",
    "train_labels = df_train.iloc[:, 0]\n",
    "train_images = df_train.iloc[:, 1:]\n",
    "test_labels = df_test.iloc[:, 0]\n",
    "test_images = df_test.iloc[:, 1:]\n",
    "\n",
    "train_data = ZipDataset(train_images, train_labels, ToTensor())\n",
    "test_data = ZipDataset(test_images, test_labels, ToTensor())"
   ]
  },
  {
   "cell_type": "code",
   "execution_count": 8,
   "metadata": {},
   "outputs": [
    {
     "name": "stdout",
     "output_type": "stream",
     "text": [
      "<__main__.ZipDataset object at 0x10ee04340>\n"
     ]
    }
   ],
   "source": [
    "print(train_data)"
   ]
  },
  {
   "cell_type": "markdown",
   "metadata": {},
   "source": [
    "Pytorch uses a class to manipulate Datasets called [DataLoader](https://pytorch.org/docs/stable/data.html). It has methods such as iteration, indexing, mini-batching, sampler."
   ]
  },
  {
   "cell_type": "code",
   "execution_count": 9,
   "metadata": {},
   "outputs": [],
   "source": [
    "trainloader = DataLoader(train_data)\n",
    "testloader = DataLoader(test_data)"
   ]
  },
  {
   "cell_type": "markdown",
   "metadata": {},
   "source": [
    "## a. Design Model\n",
    "\n",
    "The first neural networks we will create is a single neuron that takes the images as input and output the probability in each of the 10 classes."
   ]
  },
  {
   "cell_type": "code",
   "execution_count": 10,
   "metadata": {},
   "outputs": [],
   "source": [
    "# We create a subclass of neural networks: \n",
    "# #This one will just have one layer\n",
    "\n",
    "class NN1(nn.Module): # a class defines an object\n",
    "\n",
    "\n",
    "    # this defines the arcitecture of the NN\n",
    "    def __init__(self, size_img, num_classes):\n",
    "        # Here we define all the functions that we will use during the forward part (data -> prediction)\n",
    "        super(NN1, self).__init__()\n",
    "        self.flatten = nn.Flatten() # go from a 16*16 tensor to a 256*1 tensor\n",
    "        self.size_img = size_img # number of pixels in an image\n",
    "        self.layer1 = nn.Linear(size_img, num_classes) # y = wx + b with w = 10*256 (10 digits * 256 pixels)\n",
    "\n",
    "\n",
    "    # this defines how the data passes through the layers\n",
    "    def forward(self, x):\n",
    "        # Here we explain in which order to use the functions defined above\n",
    "        x = self.flatten(x)\n",
    "        logits = self.layer1(x)\n",
    "        return logits"
   ]
  },
  {
   "cell_type": "markdown",
   "metadata": {},
   "source": [
    "We now create a model of the class NN1."
   ]
  },
  {
   "cell_type": "code",
   "execution_count": 11,
   "metadata": {},
   "outputs": [],
   "source": [
    "model = NN1(16*16, 10)"
   ]
  },
  {
   "cell_type": "code",
   "execution_count": 12,
   "metadata": {},
   "outputs": [
    {
     "name": "stdout",
     "output_type": "stream",
     "text": [
      "NN1(\n",
      "  (flatten): Flatten(start_dim=1, end_dim=-1)\n",
      "  (layer1): Linear(in_features=256, out_features=10, bias=True)\n",
      ")\n"
     ]
    }
   ],
   "source": [
    "print(model)"
   ]
  },
  {
   "cell_type": "markdown",
   "metadata": {},
   "source": [
    "## b. Define Loss Function\n",
    "\n",
    "For the binary classification, we had defined the logistic function or *sigmoid* function as,\n",
    "\n",
    "$\\hat{y} = \\frac{1}{1 + e^{-z}}$,\n",
    " \n",
    "as the probability function for a binary classifier.\n",
    "\n",
    "The log loss function to minimize is:\n",
    "\n",
    "$\\mathcal{L} =  - (y \\log \\hat{y} + (1 - y) \\log (1 - \\hat{y})$ with $\\hat{y} = \\frac{1}{1 + e^{-z}}$.\n",
    "\n",
    "We wanted to find all of the weights $w$ and biases $b$ such that $P(Y = y)$ is maximum, which is equivalent to minimizing the loss $\\mathcal{L}$."
   ]
  },
  {
   "cell_type": "markdown",
   "metadata": {},
   "source": [
    "For a multi-class classification, $k$ being the class and $K$ the number of classes, the sigmoid function is extended to a *softmax function*,\n",
    "\n",
    "$P(Y = k) = \\frac{\\exp(w_k x + b_k)}{\\sum_{j = 1}^K \\exp(w_j x + b_j)}$\n",
    "\n",
    "Once we have found the values of the $w_k$ and $b_k$ for $k = 1 , \\cdots , K$, we can compute the values of the $P(Y = k)$. We then look for which value of $k$ $P(Y = k)$ is maximal and we classify this sample as class $k$.\n",
    "\n",
    "\n",
    "Similarly, we define the loss with $K$ classes:\n",
    "\n",
    "$\\mathcal{L} = - \\sum_{k = 1}^K y_k \\log \\frac{\\exp(w_k x + b_k)}{\\sum_{j = 1}^K \\exp(w_j x + b_j)}$. We have $y_k = 1$ if the true label associated with the sample $x$ is $k$, otherwise $y_k = 0$.\n",
    "\n",
    "This is called the _cross-entropy loss_."
   ]
  },
  {
   "cell_type": "code",
   "execution_count": 13,
   "metadata": {},
   "outputs": [
    {
     "data": {
      "text/plain": [
       "CrossEntropyLoss()"
      ]
     },
     "execution_count": 13,
     "metadata": {},
     "output_type": "execute_result"
    }
   ],
   "source": [
    "nn.CrossEntropyLoss()"
   ]
  },
  {
   "cell_type": "markdown",
   "metadata": {},
   "source": [
    "## c. Define optimization\n",
    "\n",
    "*Gradient descent* uses the entire data set to compute the gradient and find the optimal (minimum loss) solution. Effectively, the batch size is the entire data set.\n",
    "\n",
    "*Mini batch gradient descent* uses batches of data to compute the gradient, find a solution, and moves to the next set of training data. The batch size is determined. The prediction on the training set is calculated for each sample in the batch, then averaged. Then the gradient is calculated.\n",
    "\n",
    "*Stochastic gradient descrent* uses one data sample to calculate the gradient, finds a solution, then take another training sample to go down the gradient. Effectively, the batch size is 1.\n",
    "\n",
    "\n",
    "In this example, we will use stochastic gradient descent SGD.\n",
    "\n",
    "Parameters to choose are:\n",
    "* optimizer (gradient descent or others)\n",
    "* learning rate (scale to jump with the gradient)"
   ]
  },
  {
   "cell_type": "code",
   "execution_count": 14,
   "metadata": {},
   "outputs": [],
   "source": [
    "learning_rate=0.001\n",
    "\n",
    "optimizer = optim.SGD(model.parameters(), lr=learning_rate)"
   ]
  },
  {
   "cell_type": "markdown",
   "metadata": {},
   "source": [
    "## c. Define a training strategy\n",
    "\n",
    "Parameters to choose are:\n",
    "* **batch size**: this is the size of an individial training set used to estimate an average model prediction loss, after which a gradient will be calculated, and the model weights updated.\n",
    "* **number of epochs**: this is the number of times the training goes over the *entire* data sets. If the training set is split into batches of size ``batch_size``, then at each **epoch**, the training will be performed over all batches. Models tend to be trained over multiple-to-many epochs (10,100,1000). \n",
    "\n",
    "Let us now define how to train the model. We will create a function for that."
   ]
  },
  {
   "cell_type": "code",
   "execution_count": 15,
   "metadata": {},
   "outputs": [],
   "source": [
    "def train(model, n_epochs, trainloader, testloader=None,learning_rate=0.001 ):\n",
    "\n",
    "    # Define loss and optimization method\n",
    "    criterion = nn.CrossEntropyLoss()\n",
    "    optimizer = optim.SGD(model.parameters(), lr=learning_rate)\n",
    "    \n",
    "    # # Save loss and error for plotting\n",
    "    # loss_time = np.zeros(n_epochs)\n",
    "    # error_time = np.zeros(n_epochs)\n",
    "\n",
    "    # # Loop on number of epochs\n",
    "    # for epoch in range(n_epochs):\n",
    "    #     # Initialize the loss\n",
    "    #     running_loss = 0\n",
    "    #     # Loop on samples in train set\n",
    "    #     for data in trainloader:\n",
    "    #         # Get the sample and modify the format for PyTorch\n",
    "    #         inputs, labels = data[0], data[1]\n",
    "    #         inputs = inputs.float() \n",
    "    #         labels = labels.long()\n",
    "    #         # Set the parameter gradients to zero\n",
    "    #         optimizer.zero_grad()\n",
    "    #         outputs = model(inputs)\n",
    "    #         loss = criterion(outputs, labels)\n",
    "    #         # Propagate the loss backward\n",
    "    #         loss.backward()\n",
    "    #         # Update the gradients\n",
    "    #         optimizer.step()\n",
    "    #         # Add the value of the loss for this sample\n",
    "    #         running_loss += loss.item()\n",
    "    #     # Save loss at the end of each epoch\n",
    "    #     loss_time[epoch] = running_loss/len(trainloader)\n",
    "\n",
    "    #     # After each epoch, evaluate the performance on the test set\n",
    "    #     if testloader is not None:\n",
    "    #         correct = 0\n",
    "    #         total = 0\n",
    "    #         # We evaluate the model, so we do not need the gradient\n",
    "    #         with torch.no_grad():\n",
    "    #             # Loop on samples in test set\n",
    "    #             for data in testloader:\n",
    "    #                 # Get the sample and modify the format for PyTorch\n",
    "    #                 inputs, labels = data[0], data[1]\n",
    "    #                 inputs = inputs.float() \n",
    "    #                 labels = labels.long()\n",
    "    #                 # Use model for sample in the test set\n",
    "    #                 outputs = model(inputs)\n",
    "    #                 # Compare predicted label and true label\n",
    "    #                 _, predicted = torch.max(outputs.data, 1)\n",
    "    #                 total += labels.size(0)\n",
    "    #                 correct += (predicted == labels).sum().item()\n",
    "    #         # Save error at the end of each epochs\n",
    "    #         error_time[epoch] = 100 * correct / total\n",
    "    \n",
    "    #     # Print intermediate results on screen\n",
    "    #     if testloader is not None:\n",
    "    #         print('[Epoch %d] loss: %.3f - error: %.3f' %\n",
    "    #           (epoch + 1, running_loss/len(trainloader), 100 * correct / total))\n",
    "    #     else:\n",
    "    #         print('[Epoch %d] loss: %.3f' %\n",
    "    #           (epoch + 1, running_loss/len(trainloader)))\n",
    "\n",
    "    # # Save history of loss and test error\n",
    "    if testloader is not None:\n",
    "        return (loss_time, error_time)\n",
    "    else:\n",
    "        return (loss_time)"
   ]
  },
  {
   "cell_type": "code",
   "execution_count": 16,
   "metadata": {},
   "outputs": [
    {
     "ename": "TypeError",
     "evalue": "cannot unpack non-iterable NoneType object",
     "output_type": "error",
     "traceback": [
      "\u001b[0;31m---------------------------------------------------------------------------\u001b[0m",
      "\u001b[0;31mTypeError\u001b[0m                                 Traceback (most recent call last)",
      "Cell \u001b[0;32mIn [16], line 1\u001b[0m\n\u001b[0;32m----> 1\u001b[0m (loss, error) \u001b[39m=\u001b[39m train(model, \u001b[39m10\u001b[39m,trainloader, testloader, learning_rate)\n",
      "\u001b[0;31mTypeError\u001b[0m: cannot unpack non-iterable NoneType object"
     ]
    }
   ],
   "source": [
    "(loss, error) = train(model, 10,trainloader, testloader, learning_rate)"
   ]
  },
  {
   "cell_type": "markdown",
   "metadata": {},
   "source": [
    "Let us now plot the evolution of the loss and the percentage of correct predictions with time:"
   ]
  },
  {
   "cell_type": "code",
   "execution_count": null,
   "metadata": {},
   "outputs": [],
   "source": [
    "fig, ax1 = plt.subplots()\n",
    "\n",
    "color = 'tab:red'\n",
    "ax1.set_xlabel('Epoch')\n",
    "ax1.set_ylabel('Loss', color=color)\n",
    "ax1.plot(np.arange(1, 11), loss, color=color)\n",
    "ax1.tick_params(axis='y', labelcolor=color)\n",
    "\n",
    "ax2 = ax1.twinx()\n",
    "\n",
    "color = 'tab:blue'\n",
    "ax2.set_ylabel('Correct predictions', color=color)\n",
    "ax2.plot(np.arange(1, 11), error, color=color)\n",
    "ax2.tick_params(axis='y', labelcolor=color)\n",
    "\n",
    "fig.tight_layout()\n",
    "plt.show()"
   ]
  },
  {
   "cell_type": "code",
   "execution_count": null,
   "metadata": {},
   "outputs": [],
   "source": [
    "fig, ax1 = plt.subplots()\n",
    "\n",
    "color = 'tab:red'\n",
    "ax1.set_xlabel('Epoch')\n",
    "ax1.set_ylabel('Loss', color=color)\n",
    "ax1.plot(np.arange(1, 11), loss, color=color)\n",
    "ax1.tick_params(axis='y', labelcolor=color)\n",
    "\n",
    "ax2 = ax1.twinx()\n",
    "\n",
    "color = 'tab:blue'\n",
    "ax2.set_ylabel('Correct predictions', color=color)\n",
    "ax2.plot(np.arange(1, 11), error, color=color)\n",
    "ax2.tick_params(axis='y', labelcolor=color)\n",
    "\n",
    "fig.tight_layout()\n",
    "plt.show()"
   ]
  }
 ],
 "metadata": {
  "kernelspec": {
   "display_name": "Python 3.9.13 ('mlgeo')",
   "language": "python",
   "name": "python3"
  },
  "language_info": {
   "codemirror_mode": {
    "name": "ipython",
    "version": 3
   },
   "file_extension": ".py",
   "mimetype": "text/x-python",
   "name": "python",
   "nbconvert_exporter": "python",
   "pygments_lexer": "ipython3",
   "version": "3.9.13"
  },
  "orig_nbformat": 4,
  "vscode": {
   "interpreter": {
    "hash": "d1bb5eaf04ee616cb97a7646d642cbb4883a22e93827c7cd2dfad8795f88fc9d"
   }
  }
 },
 "nbformat": 4,
 "nbformat_minor": 2
}
