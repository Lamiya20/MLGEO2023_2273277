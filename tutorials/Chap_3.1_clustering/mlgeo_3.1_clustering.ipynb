{
 "cells": [
  {
   "cell_type": "markdown",
   "metadata": {},
   "source": [
    "# Clustering"
   ]
  },
  {
   "cell_type": "markdown",
   "metadata": {},
   "source": [
    "Clustering is an unsupervised problem because the goal is to discover structure on the basis of data sets. Clustering looks to find homogeneous subgroups among the observations. \n",
    "\n",
    "The concept of homogeneity within group is parameterized with the *distance* between data.  There exist many other distance metrics, which can be called from the ``DistanceMetric`` sci-kit learn module. More details in this scikit-learn [documentation](!https://scikit-learn.org/stable/modules/generated/sklearn.metrics.DistanceMetric.html#sklearn.metrics.DistanceMetric).\n",
    "\n",
    "Clustering and PCA both simplify the data via a small number of summaries. But the differences are:\n",
    "* PCA seeks to reduce the dimensionality of the data, to find a low-dimensiona representation of the data that explains a good fraction of the data variance,\n",
    "* Clustering seeks to find homogeneous groups within the observations.\n",
    "\n",
    "In fact, it is common to combine both for complex and high dimensional data: 1) PCA, 2) clustering on the PCs.\n",
    "\n",
    "\n",
    "There are two main methods using clustering, **k-means** clustering and **hierarchical clustering**.\n",
    "\n",
    "The toolbox scikit-learn has a collection of clustering algorithms and detailed [documentation](!https://scikit-learn.org/stable/modules/clustering.html) with tutorials.\n"
   ]
  },
  {
   "cell_type": "markdown",
   "metadata": {},
   "source": [
    "Import useful Python packages"
   ]
  },
  {
   "cell_type": "code",
   "execution_count": 2,
   "metadata": {},
   "outputs": [
    {
     "name": "stderr",
     "output_type": "stream",
     "text": [
      "<frozen importlib._bootstrap>:228: RuntimeWarning: numpy.ndarray size changed, may indicate binary incompatibility. Expected 16 from C header, got 96 from PyObject\n"
     ]
    }
   ],
   "source": [
    "import matplotlib.pyplot as plt\n",
    "import numpy as np\n",
    "import pandas as pd\n",
    "import random\n",
    "import wget\n",
    "from math import cos, sin, pi, sqrt\n",
    "from mpl_toolkits.mplot3d import Axes3D\n",
    "from sklearn import preprocessing\n",
    "from sklearn.decomposition import PCA\n",
    "import plotly.express as px"
   ]
  },
  {
   "cell_type": "markdown",
   "metadata": {},
   "source": [
    "### Data\n",
    "\n",
    "We will use **flow cytometer data**. \n",
    "The file has attributes about each particle, such as normalized scatter, red, orange, and green. These are measurements from the instrument iteself from light scattering.\n",
    "Other parameters, like diam (diameter) and Qc (carbon quota) are estimated from the light scatter measurements."
   ]
  },
  {
   "cell_type": "code",
   "execution_count": null,
   "metadata": {},
   "outputs": [],
   "source": [
    "# download data\n",
    "cc=wget.download(\"https://www.dropbox.com/s/dwa82x6xhjkhyw8/ug3_FCM_distribution.feather?dl=1\")"
   ]
  },
  {
   "cell_type": "markdown",
   "metadata": {},
   "source": [
    "read the data"
   ]
  },
  {
   "cell_type": "code",
   "execution_count": null,
   "metadata": {},
   "outputs": [],
   "source": [
    "# this is some underway data collected from a cruise in 2019\n",
    "\n",
    "underway_g3 = pd.read_feather(\"ug3_FCM_distribution.feather\")\n",
    "print(underway_g3.columns)\n",
    "underway_g3.head()"
   ]
  },
  {
   "cell_type": "code",
   "execution_count": null,
   "metadata": {},
   "outputs": [],
   "source": [
    "files = list(pd.unique(underway_g3['filename']))\n",
    "print(files)"
   ]
  },
  {
   "cell_type": "markdown",
   "metadata": {},
   "source": [
    "Each file is 1 sample taken at a certain time, location, and depth. There are also replicates, or even triplicates, run on the same spatiotemporal scale to get uncertainty estimations on the instrument. We can either ignore the replicates/triplicates or take the mean. "
   ]
  },
  {
   "cell_type": "code",
   "execution_count": null,
   "metadata": {},
   "outputs": [],
   "source": [
    "test1 = underway_g3[underway_g3['filename']==files[1]]\n",
    "px.scatter(test1, 'norm.scatter', 'norm.red', color='pop',log_x=True, log_y=True)"
   ]
  },
  {
   "cell_type": "code",
   "execution_count": null,
   "metadata": {},
   "outputs": [],
   "source": [
    "px.scatter(test1, 'norm.scatter','norm.orange',color='pop',log_x=True,log_y=True)"
   ]
  },
  {
   "cell_type": "markdown",
   "metadata": {},
   "source": [
    "Typically, populations are gated based on their log-transformed normalized scatter (x) and red (y). Orange flouresence can be used in addition to gate the synecho population. We can see there are 3 populations here, and these were previously gated from the parameters above. "
   ]
  },
  {
   "cell_type": "code",
   "execution_count": null,
   "metadata": {},
   "outputs": [],
   "source": [
    "import seaborn as sns\n",
    "sns.set_theme(style=\"ticks\")\n",
    "df = test1[['norm.scatter','norm.red','norm.orange','norm.green','depth']]\n",
    "df['norm.scatter'] = np.log10(df['norm.scatter'])\n",
    "df['norm.red'] = np.log10(df['norm.red'])\n",
    "df['norm.orange'] = np.log10(df['norm.orange'])\n",
    "sns.pairplot(df, hue=\"norm.green\")"
   ]
  },
  {
   "cell_type": "code",
   "execution_count": null,
   "metadata": {},
   "outputs": [],
   "source": [
    "sns.set_theme(style=\"ticks\")\n",
    "df = test1[['norm.scatter','norm.red','norm.orange','pop']]\n",
    "df['norm.scatter'] = np.log10(df['norm.scatter'])\n",
    "df['norm.red'] = np.log10(df['norm.red'])\n",
    "df['norm.orange'] = np.log10(df['norm.orange'])\n",
    "sns.pairplot(df, hue=\"pop\")"
   ]
  },
  {
   "cell_type": "markdown",
   "metadata": {},
   "source": [
    "## 1. K-means\n",
    "K-means is an unsupervised clustering method. The main idea is to separate the data into K distinct clusters. We then have two problems to solve. First, we need to find the k centroids of the k clusters. Then, we need to affect each data point to the cluster which centroid is the closest to the data point.\n",
    "\n",
    "The goal is to partition $n$ data points into $k$ clusters. Each observation is labeled to a cluster with the nearest mean.\n",
    "\n",
    "K-means is iterative:\n",
    "1. assume initial values for the mean of each of the $k$ clusters\n",
    "2. Compute the distance for each observation to each of the $k$ means\n",
    "3. Label each observation as belonging to the nearest means\n",
    "4. Find the *center of mass* (mean) of each group of labeled points. These are new means to step 1.\n",
    "\n",
    "\n",
    "In the following, we denote $n$ the number of data points, and $p$ the number of features for each data point.\n",
    "\n",
    "K-means only works with the **Euclidian distance** metrics. In fact, its core concept is to use the the euclidian distance to measure and minimize *inertia* or *within cluster variation*."
   ]
  },
  {
   "cell_type": "code",
   "execution_count": null,
   "metadata": {},
   "outputs": [],
   "source": [
    "n = len(df)\n",
    "p = 3 #()\n",
    "print('We have {:d} data points, and each one has {:d} features'.format(n, p))"
   ]
  },
  {
   "cell_type": "markdown",
   "metadata": {},
   "source": [
    "Let's define a numpy array with the 3 features and all of the data"
   ]
  },
  {
   "cell_type": "code",
   "execution_count": null,
   "metadata": {},
   "outputs": [],
   "source": [
    "data = np.zeros(shape=(n,p))\n",
    "data[:,0] = df['norm.scatter']\n",
    "data[:,1] = df['norm.red']\n",
    "data[:,2] = df['norm.orange']"
   ]
  },
  {
   "cell_type": "markdown",
   "metadata": {},
   "source": [
    "Let us define a function to initialize the centroid of the clusters. We choose random points within the range of values taken by the data."
   ]
  },
  {
   "cell_type": "code",
   "execution_count": null,
   "metadata": {},
   "outputs": [],
   "source": [
    "def init_centers(data, k):\n",
    "    \"\"\"\n",
    "    \"\"\"\n",
    "    # Initialize centroids\n",
    "    centers = np.zeros((k, np.shape(data)[1]))\n",
    "    # Loop on k centers\n",
    "    for i in range(0, k):\n",
    "        # Generate p random values between 0 and 1\n",
    "        dist = np.random.uniform(size=np.shape(data)[1])\n",
    "        # Use the random values to generate a point within the range of values taken by the data\n",
    "        centers[i, :] = np.min(data, axis=0) + (np.max(data, axis=0) - np.min(data, axis=0)) * dist\n",
    "    return centers"
   ]
  },
  {
   "cell_type": "markdown",
   "metadata": {},
   "source": [
    "To be able to affect each data point to the closest centroid, we need to define the distance between two data points. The most common distance is the **Euclidean distance**:\n",
    "\n",
    "$d(x,y) = \\sqrt{\\sum_{i = 1}^p (x_i - y_i)^2}$\n",
    "\n",
    "where $x$ and $y$ are two data observation points with $p$ variables. \n",
    "\n",
    "We then define a function to compute the distance between each data point and each centroid."
   ]
  },
  {
   "cell_type": "code",
   "execution_count": null,
   "metadata": {},
   "outputs": [],
   "source": [
    "def compute_distance(data, centers, k):\n",
    "    \"\"\"\n",
    "    \"\"\"\n",
    "    # Initialize distance\n",
    "    distance = np.zeros((np.shape(data)[0], k))\n",
    "    # Loop on n data points\n",
    "    for i in range(0, np.shape(data)[0]):\n",
    "        # Loop on k centroids\n",
    "        for j in range(0, k):\n",
    "            # Compute distance\n",
    "            distance[i, j] = sqrt(np.sum(np.square(data[i, :] - centers[j, :])))\n",
    "    return distance"
   ]
  },
  {
   "cell_type": "markdown",
   "metadata": {},
   "source": [
    "We now define a function to affect each data point to the cluster which centroid is the closest to the point. We also define an objective function that will be minimized until we reach convergence.\n",
    "\n",
    "Our objective is to minimize the sum of the square of the distance between each point and the closest centroid:\n",
    "\n",
    "$obj = \\sum_{j = 1}^k \\sum_{i = 1}^{N_j} d(x^{(i)} , x^{(j)}) ^2$\n",
    "\n",
    "where $x^{(i)}$ is the $i^{th}$ point in the cluster $j$, $x^{(j)}$ is the centroid of the cluster $j$, and $N_j$ is the number of points in the cluster $j$."
   ]
  },
  {
   "cell_type": "code",
   "execution_count": null,
   "metadata": {},
   "outputs": [],
   "source": [
    "def compute_objective(distance, clusters):\n",
    "    \"\"\"\n",
    "    \"\"\"\n",
    "    # Initialize objective\n",
    "    objective = 0.0\n",
    "    # Loop on n data points\n",
    "    for i in range(0, np.shape(distance)[0]):\n",
    "        # Add distance to the closest centroid\n",
    "        objective = objective + distance[i, int(clusters[i])] ** 2.0\n",
    "    return objective"
   ]
  },
  {
   "cell_type": "code",
   "execution_count": null,
   "metadata": {},
   "outputs": [],
   "source": [
    "def compute_clusters(distance):\n",
    "    \"\"\"\n",
    "    \"\"\"\n",
    "    # Initialize clusters\n",
    "    clusters = np.zeros(np.shape(distance)[0])\n",
    "    # Loop on n data points\n",
    "    for i in range(0, np.shape(distance)[0]):\n",
    "        # Find closest centroid\n",
    "        best = np.argmin(distance[i, :])\n",
    "        # Assign data point to corresponding cluster\n",
    "        clusters[i] = best\n",
    "    return clusters"
   ]
  },
  {
   "cell_type": "markdown",
   "metadata": {},
   "source": [
    "After all points are assigned to a cluster, compute the new location of the centroid. It is just the value of the mean of all the points affected to that cluster:\n",
    "\n",
    "For $1 \\leq j \\leq k$, $x_p^{(j)} = \\frac{1}{N_j} \\sum_{i = 1}^{N_j} x_p^{(i)}$"
   ]
  },
  {
   "cell_type": "code",
   "execution_count": null,
   "metadata": {},
   "outputs": [],
   "source": [
    "def compute_centers(data, clusters, k):\n",
    "    \"\"\"\n",
    "    \"\"\"\n",
    "    # Initialize centroids\n",
    "    centers = np.zeros((k, np.shape(data)[1]))\n",
    "    # Loop on clusters\n",
    "    for i in range(0, k):\n",
    "        # Select all data points in this cluster\n",
    "        subdata = data[clusters == i, :]\n",
    "        # If no data point in this cluster, generate randomly a new centroid\n",
    "        if (np.shape(subdata)[0] == 0):\n",
    "            centers[i, :] = init_centers(data, 1)\n",
    "        else:\n",
    "            # Compute the mean location of all data points in this cluster\n",
    "            centers[i, :] = np.mean(subdata, axis=0)\n",
    "    return centers"
   ]
  },
  {
   "cell_type": "markdown",
   "metadata": {},
   "source": [
    "We can now code the K-means algorithm by assembling all these functions. We stop the computation when the objective function no longer decreases."
   ]
  },
  {
   "cell_type": "code",
   "execution_count": null,
   "metadata": {},
   "outputs": [],
   "source": [
    "def my_kmeans(data, k):\n",
    "    \"\"\"\n",
    "    \"\"\"\n",
    "    # Initialize centroids\n",
    "    centers = init_centers(data, k)\n",
    "    # Initialize objective function to maximum square of distance between to data points time number od data points\n",
    "    objective_old = np.shape(data)[0] * np.sum(np.square(np.max(data, axis=0) - np.min(data, axis=0)))\n",
    "    # Initialize clusters\n",
    "    clusters_old = np.zeros(np.shape(data)[0])\n",
    "    # Start loop until convergence\n",
    "    stop_alg = False\n",
    "    while stop_alg == False:\n",
    "        # Compute distance between data points and centroids\n",
    "        distance = compute_distance(data, centers, k)\n",
    "        # Get new clusters\n",
    "        clusters_new = compute_clusters(distance)\n",
    "        # get new value of objective function\n",
    "        objective_new = compute_objective(distance, clusters_new)\n",
    "        # If objective function stops decreasing, end loop\n",
    "        if objective_new >= objective_old:\n",
    "            return (clusters_old, objective_old, centers)\n",
    "        else:\n",
    "            # Update the locations of the centroids\n",
    "            centers = compute_centers(data, clusters_new, k)\n",
    "            objective_old = objective_new\n",
    "            clusters_old = clusters_new"
   ]
  },
  {
   "cell_type": "markdown",
   "metadata": {},
   "source": [
    "Run K-means with 4 clusters"
   ]
  },
  {
   "cell_type": "code",
   "execution_count": null,
   "metadata": {},
   "outputs": [],
   "source": [
    "k = 4\n",
    "(clusters, objective, centers) = my_kmeans(data, k)\n",
    "fig = plt.figure(figsize=(10, 10))\n",
    "ax = fig.add_subplot(111, projection='3d')\n",
    "ax.scatter(data[:, 1], data[:, 0], -data[:, 2], c=clusters)\n",
    "ax.scatter(centers[:, 1], centers[:, 0], -centers[:, 2], marker='o', s=300, c='black')\n",
    "ax.set_xlabel('norm.scatterer')\n",
    "ax.set_ylabel('norm.red')\n",
    "ax.set_ylabel('norm.orange')\n",
    "plt.title('Clusters for cytometer data')"
   ]
  },
  {
   "cell_type": "markdown",
   "metadata": {},
   "source": [
    "### K-means with Scikit learn\n",
    "\n",
    "We will now use [scikit learn](!https://scikit-learn.org/stable/modules/generated/sklearn.cluster.KMeans.html#) toolbox to run kmeans. Follow that tutorial and apply it to your problem.\n",
    "\n"
   ]
  },
  {
   "cell_type": "code",
   "execution_count": null,
   "metadata": {},
   "outputs": [],
   "source": [
    "\n",
    "from sklearn.cluster import KMeans\n",
    "\n",
    "X = data\n",
    "Y = np.asarray(df['pop'])\n",
    "\n",
    "kmeans = KMeans(n_clusters=2, random_state=0).fit(data)\n",
    "kmeans.labels_\n",
    "\n"
   ]
  },
  {
   "cell_type": "code",
   "execution_count": null,
   "metadata": {},
   "outputs": [],
   "source": [
    "# explore different pipeline\n",
    "\n",
    "\n",
    "estimators = [\n",
    "    (\"k_means_cyto_8\", KMeans(n_clusters=8)),\n",
    "    (\"k_means_cyto_3\", KMeans(n_clusters=3)),\n",
    "    (\"k_means_cyto_bad_init\", KMeans(n_clusters=3, n_init=1, init=\"random\")),\n",
    "]\n",
    "\n",
    "name,est=estimators[0]\n",
    "est.fit(X)\n",
    "labels = est.labels_\n",
    "\n",
    "fig = plt.figure(0, figsize=(4, 3))\n",
    "ax.scatter(X[:, 0], X[:, 1], X[:, 2], c=labels.astype(float), edgecolor=\"k\")\n",
    "ax.w_xaxis.set_ticklabels([])\n",
    "ax.w_yaxis.set_ticklabels([])\n",
    "ax.w_zaxis.set_ticklabels([])\n",
    "ax.set_xlabel(\"norm.scatter\")\n",
    "ax.set_ylabel(\"norm.red\")\n",
    "ax.set_zlabel(\"norm.orange\")\n",
    "fig.show()"
   ]
  },
  {
   "cell_type": "markdown",
   "metadata": {},
   "source": [
    "### Practical tips for k-means\n",
    "\n",
    "1. How to **evaluate the success** of the clustering? How well separated are the clusters? There exist many ways to evaluate the quality of the clusters. Scikit-learn has summarized and packaged these tools into the module ``sklearn.metrics``. See documentation [here](!https://scikit-learn.org/stable/modules/clustering.html#clustering-evaluation). Usually, high scores are better. Here is a summary:\n",
    "    * If the data has ground-truth labels (e.g., population of the cyto data), we can use several metrics:\n",
    "        + **homogeneity** (each cluster contains only members of a given class, ``metrics.homgeneity_score(clusterID,true_label)``), **completeness** (all members of a given class are assigned the same cluster, ``metrics.completeness_score``), V-measure (2 x homogeneity x completeness / (homogeneity+completeness), ``metrics.v_measure_score``) and all three ``metrics.homogeneity_completeness_v_measure(clusterID,true_label)``.\n",
    "        +  **Fowlkes-Mallows index**, FMI, that uses TP (True Positive), FP (False Positive), FN (False Negative). Is 0.0 for random cluster assignement and 1.0 for perfect label assignements.\n",
    "    * If the data does not have ground truth label, you can use:\n",
    "        + **silhouette coefficient** using the module ``metrics.silhouette_score)``, a high score or coefficient is better. It quantifies how tight the data within the clusters are and how well separated the clusters are. More details on implementation and visualization of the **silhouette score** [here](!https://scikit-learn.org/stable/auto_examples/cluster/plot_kmeans_silhouette_analysis.html).\n",
    "2. The number of clusters $k$ is a tunable parameter. To find the optimal number of clusters, we discuss below a few strategies.\n",
    "3. The optimization of k-means may have local minima. The result therefore may different due to the initialiation of the clusters. It is recommended to use:\n",
    "    * repeat random initialization, repeat k-means, and use the best set of cluster (one that has the lowest final error)\n",
    "    * choose K-means++ initialization scheme using the sklearn parameter ``init='k-means++'``. The algorithm selects initial cluster centroids using sampling based on an empirical probability distribution of the points’ contribution to the overall inertia. \n",
    "\n",
    "4. The **data variance** of some of the features may affect the results. It may be difficult to find clusters if some of the data features (axis) are much larger than other. The data may need to be pre-processed (centered and scaled) or pre-conditions (e.g., PCA).\n",
    "\n"
   ]
  },
  {
   "cell_type": "markdown",
   "metadata": {},
   "source": [
    "In the following, we take the example of a simple data sets. The Old Faithful is a geyser in Yellowstone. The data shows the time of the geyser eruption against the waiting time for the next eruptions."
   ]
  },
  {
   "cell_type": "code",
   "execution_count": 4,
   "metadata": {},
   "outputs": [
    {
     "data": {
      "text/plain": [
       "Text(0.5, 1.0, 'Old Faithful')"
      ]
     },
     "execution_count": 4,
     "metadata": {},
     "output_type": "execute_result"
    },
    {
     "data": {
      "image/png": "[encoded data removed]",
      "text/plain": [
       "<Figure size 640x480 with 1 Axes>"
      ]
     },
     "metadata": {},
     "output_type": "display_data"
    }
   ],
   "source": [
    "faithful = pd.read_csv('faithful.csv')\n",
    "data_faithful = faithful.to_numpy()\n",
    "plt.plot(faithful.current, faithful.next, 'ko')\n",
    "plt.xlabel('Eruption time in minutes')\n",
    "plt.ylabel('Waiting time to next eruption')\n",
    "plt.grid(True)\n",
    "plt.title('Old Faithful')"
   ]
  },
  {
   "cell_type": "markdown",
   "metadata": {},
   "source": [
    "Example of **silhouette analysis**"
   ]
  },
  {
   "cell_type": "code",
   "execution_count": 8,
   "metadata": {},
   "outputs": [
    {
     "ename": "ImportError",
     "evalue": "cannot import name 'silhouette_sample' from 'sklearn.metrics' (/Users/marinedenolle/.conda/envs/mlgeo_sk/lib/python3.9/site-packages/sklearn/metrics/__init__.py)",
     "output_type": "error",
     "traceback": [
      "\u001b[0;31m---------------------------------------------------------------------------\u001b[0m",
      "\u001b[0;31mImportError\u001b[0m                               Traceback (most recent call last)",
      "Cell \u001b[0;32mIn [8], line 4\u001b[0m\n\u001b[1;32m      2\u001b[0m \u001b[39mfrom\u001b[39;00m \u001b[39msklearn\u001b[39;00m\u001b[39m.\u001b[39;00m\u001b[39mcluster\u001b[39;00m \u001b[39mimport\u001b[39;00m KMeans\n\u001b[1;32m      3\u001b[0m \u001b[39mfrom\u001b[39;00m \u001b[39msklearn\u001b[39;00m \u001b[39mimport\u001b[39;00m metrics\n\u001b[0;32m----> 4\u001b[0m \u001b[39mfrom\u001b[39;00m \u001b[39msklearn\u001b[39;00m\u001b[39m.\u001b[39;00m\u001b[39mmetrics\u001b[39;00m \u001b[39mimport\u001b[39;00m silhouette_score, silhouette_sample\n\u001b[1;32m      6\u001b[0m ncluster\u001b[39m=\u001b[39m\u001b[39m3\u001b[39m\n\u001b[1;32m      8\u001b[0m kmeans_model \u001b[39m=\u001b[39m KMeans(n_clusters\u001b[39m=\u001b[39mncluster, random_state\u001b[39m=\u001b[39m\u001b[39m1\u001b[39m)\u001b[39m.\u001b[39mfit(data_faithful)\n",
      "\u001b[0;31mImportError\u001b[0m: cannot import name 'silhouette_sample' from 'sklearn.metrics' (/Users/marinedenolle/.conda/envs/mlgeo_sk/lib/python3.9/site-packages/sklearn/metrics/__init__.py)"
     ]
    }
   ],
   "source": [
    "# example of the silhouette score for the Old Faithful data\n",
    "from sklearn.cluster import KMeans\n",
    "from sklearn import metrics\n",
    "from sklearn.metrics import silhouette_score, silhouette_sample\n",
    "\n",
    "ncluster=3\n",
    "\n",
    "kmeans_model = KMeans(n_clusters=ncluster, random_state=1).fit(data_faithful)\n",
    "labels = kmeans_model.labels_\n",
    "sc=silhouette_score(data_faithful, labels, metric='euclidean')\n",
    "print(silhouette_sample(data_faithful, labels, metric='euclidean'))\n",
    "\n",
    "print(sc)"
   ]
  },
  {
   "cell_type": "code",
   "execution_count": 7,
   "metadata": {},
   "outputs": [
    {
     "ename": "NameError",
     "evalue": "name 'ncluster' is not defined",
     "output_type": "error",
     "traceback": [
      "\u001b[0;31m---------------------------------------------------------------------------\u001b[0m",
      "\u001b[0;31mNameError\u001b[0m                                 Traceback (most recent call last)",
      "Cell \u001b[0;32mIn [7], line 9\u001b[0m\n\u001b[1;32m      6\u001b[0m ax1\u001b[39m.\u001b[39mset_xlim([\u001b[39m-\u001b[39m\u001b[39m0.1\u001b[39m, \u001b[39m1\u001b[39m])\n\u001b[1;32m      7\u001b[0m \u001b[39m# The (n_clusters+1)*10 is for inserting blank space between silhouette\u001b[39;00m\n\u001b[1;32m      8\u001b[0m \u001b[39m# plots of individual clusters, to demarcate them clearly.\u001b[39;00m\n\u001b[0;32m----> 9\u001b[0m ax1\u001b[39m.\u001b[39mset_ylim([\u001b[39m0\u001b[39m, \u001b[39mlen\u001b[39m(data_faithful) \u001b[39m+\u001b[39m (ncluster \u001b[39m+\u001b[39m \u001b[39m1\u001b[39m) \u001b[39m*\u001b[39m \u001b[39m10\u001b[39m])\n\u001b[1;32m     11\u001b[0m \u001b[39m# Initialize the clusterer with n_clusters value and a random generator\u001b[39;00m\n\u001b[1;32m     12\u001b[0m \u001b[39m# seed of 10 for reproducibility.\u001b[39;00m\n\u001b[1;32m     13\u001b[0m clusterer \u001b[39m=\u001b[39m KMeans(n_clusters\u001b[39m=\u001b[39mncluster, random_state\u001b[39m=\u001b[39m\u001b[39m10\u001b[39m)\n",
      "\u001b[0;31mNameError\u001b[0m: name 'ncluster' is not defined"
     ]
    },
    {
     "data": {
      "image/png": "[encoded data removed]",
      "text/plain": [
       "<Figure size 1800x700 with 2 Axes>"
      ]
     },
     "metadata": {},
     "output_type": "display_data"
    }
   ],
   "source": [
    "fig, (ax1, ax2) = plt.subplots(1, 2)\n",
    "fig.set_size_inches(18, 7)\n",
    "#The 1st subplot is the silhouette plot\n",
    "# The silhouette coefficient can range from -1, 1 but in this example all\n",
    "# lie within [-0.1, 1]\n",
    "ax1.set_xlim([-0.1, 1])\n",
    "# The (n_clusters+1)*10 is for inserting blank space between silhouette\n",
    "# plots of individual clusters, to demarcate them clearly.\n",
    "ax1.set_ylim([0, len(data_faithful) + (ncluster + 1) * 10])\n",
    "\n",
    "# Initialize the clusterer with n_clusters value and a random generator\n",
    "# seed of 10 for reproducibility.\n",
    "clusterer = KMeans(n_clusters=ncluster, random_state=10)\n",
    "cluster_labels = clusterer.fit_predict(data_faithful)\n",
    "\n",
    "# The silhouette_score gives the average value for all the samples.\n",
    "# This gives a perspective into the density and separation of the formed\n",
    "# clusters\n",
    "silhouette_avg = silhouette_score(data_faithful, cluster_labels)\n",
    "print(\n",
    "    \"For n_clusters =\",\n",
    "    ncluster,\n",
    "    \"The average silhouette_score is :\",\n",
    "    silhouette_avg,\n",
    ")\n",
    "\n",
    "# Compute the silhouette scores for each sample\n",
    "sample_silhouette_values = silhouette_sample(data_faithful, cluster_labels)"
   ]
  },
  {
   "cell_type": "markdown",
   "metadata": {},
   "source": [
    "#### (2) Choice of number of clusters: The Elbow Method\n",
    "\n",
    "The elbow method is designed to find the optimal number of clusters. It consists in performing the clustering algorithm with an increasing number of clusters $k$ and select and measuring the average distance between data points and the cluster centroids. There are two typical metrics in the Elbow method\n",
    "\n",
    "* **Distortion**: It is calculated as the average of the squared distances from the cluster centers of the respective clusters. Typically, the Euclidean distance metric is used.\n",
    "* **Inertia**: It is the sum of squared distances of samples to their closest cluster center.\n",
    "\n",
    "For each value of $k$, we compute the mean of the square of the distance between the data points and the centroid of the cluster to which they belong. We then plot this value as a function of $k$. Hopefully, it decreases and then reaches a plateau. The optimal number of clusters is the value for which it attains the minimum.\n",
    "\n",
    "Let us use a different dataset to illustrate the elbow method."
   ]
  },
  {
   "cell_type": "code",
   "execution_count": null,
   "metadata": {},
   "outputs": [],
   "source": [
    "def compute_elbow(data, clusters, centers, k):\n",
    "    \"\"\"\n",
    "    \"\"\"\n",
    "    E = 0\n",
    "    for i in range(0, k):\n",
    "        distance = compute_distance(data[clusters == i, :], centers[i, :].reshape(1, -1), 1)\n",
    "        E = E + np.mean(np.square(distance))\n",
    "    return E"
   ]
  },
  {
   "cell_type": "markdown",
   "metadata": {},
   "source": [
    "Compute the value of E for different values of the number of clusters"
   ]
  },
  {
   "cell_type": "code",
   "execution_count": null,
   "metadata": {},
   "outputs": [],
   "source": [
    "E = np.zeros(8)\n",
    "for k in range(1, 9):\n",
    "    (clusters, objective, centers) = my_kmeans(data_faithful, k)\n",
    "    E[k - 1] = compute_elbow(data_faithful, clusters, centers, k)"
   ]
  },
  {
   "cell_type": "markdown",
   "metadata": {},
   "source": [
    "Plot $E$ as a function of $k$ and see where reaches a minimum."
   ]
  },
  {
   "cell_type": "code",
   "execution_count": null,
   "metadata": {},
   "outputs": [],
   "source": [
    "plt.plot(np.arange(1, 9), E)"
   ]
  },
  {
   "cell_type": "markdown",
   "metadata": {},
   "source": [
    "The elbow method does not always work very well. For example, see what happens when the points get closer to each other."
   ]
  },
  {
   "cell_type": "code",
   "execution_count": null,
   "metadata": {},
   "outputs": [],
   "source": [
    "alpha = 0.5\n",
    "origin = np.array([3, 3])\n",
    "data_shrink = origin + alpha * np.sign(data_faithful - origin) * np.power(np.abs(data_faithful - origin), 2.0)\n",
    "plt.plot(data_shrink[:, 0], data_shrink[:, 1], 'ko')\n",
    "\n",
    "E = np.zeros(8)\n",
    "for k in range(1, 9):\n",
    "    (clusters, objective, centers) = my_kmeans(data_shrink, k)\n",
    "    E[k - 1] = compute_elbow(data_shrink, clusters, centers, k)\n",
    "plt.plot(np.arange(1, 9), E)"
   ]
  },
  {
   "cell_type": "markdown",
   "metadata": {},
   "source": [
    "Let us see what happens when we decrease the number of data"
   ]
  },
  {
   "cell_type": "code",
   "execution_count": null,
   "metadata": {},
   "outputs": [],
   "source": [
    "alpha = 0.2\n",
    "indices = np.random.uniform(size=np.shape(data_faithful)[0])\n",
    "subdata = data_faithful[indices < alpha, :]\n",
    "plt.plot(subdata[:, 0], subdata[:, 1], 'ko')\n",
    "E = np.zeros(8)\n",
    "for k in range(1, 9):\n",
    "    (clusters, objective, centers) = my_kmeans(subdata, k)\n",
    "    E[k - 1] = compute_elbow(subdata, clusters, centers, k)\n",
    "plt.plot(np.arange(1, 9), E)"
   ]
  },
  {
   "cell_type": "markdown",
   "metadata": {},
   "source": [
    "#### (2) Repeat K-means\n",
    "Result is very sensitive to the location of the initial centroid. Repeat the clustering N times and choose the clustering with the best objective function\n"
   ]
  },
  {
   "cell_type": "code",
   "execution_count": null,
   "metadata": {},
   "outputs": [],
   "source": [
    "def repeat_kmeans(data, k, N):\n",
    "    \"\"\"\n",
    "    \"\"\"\n",
    "    # Initialization\n",
    "    objective = np.zeros(N)\n",
    "    clusters = np.zeros((N, np.shape(data)[0]))\n",
    "    centers = np.zeros((N, k, np.shape(data)[1]))\n",
    "    # Run K-means N times\n",
    "    for i in range(0, N):\n",
    "        result = my_kmeans(data, k)\n",
    "        clusters[i, :] = result[0]\n",
    "        objective[i] = result[1]\n",
    "        centers[i, :, :] = result[2]\n",
    "    # Choose the clustering with the best value of the objective function\n",
    "    best = np.argmin(objective)\n",
    "    return (clusters[best, :], objective[best], centers[best, :, :])"
   ]
  },
  {
   "cell_type": "markdown",
   "metadata": {},
   "source": [
    "Repeat k-means 50 times"
   ]
  },
  {
   "cell_type": "code",
   "execution_count": null,
   "metadata": {},
   "outputs": [],
   "source": [
    "N = 50\n",
    "(clusters, objective, centers) = repeat_kmeans(data, k, N)\n",
    "fig = plt.figure(figsize=(10, 10))\n",
    "ax = fig.add_subplot(111, projection='3d')\n",
    "ax.scatter(data[:, 1], data[:, 2], -data[:, 0], c=clusters)\n",
    "ax.scatter(centers[:, 1], centers[:, 2], -centers[:, 0], marker='o', s=300, c='black')"
   ]
  },
  {
   "cell_type": "markdown",
   "metadata": {},
   "source": [
    "## PCA before clustering"
   ]
  },
  {
   "cell_type": "markdown",
   "metadata": {},
   "source": [
    "Let us generate synthetics data."
   ]
  },
  {
   "cell_type": "code",
   "execution_count": null,
   "metadata": {},
   "outputs": [],
   "source": [
    "centers = np.array([[2, 2], [2, 8], [4, 3]])\n",
    "radius = [0.1, 1]\n",
    "synthetics = np.empty([0, 2])\n",
    "for i in range(0, 3):\n",
    "    X = centers[i, 0] + radius[0] * np.random.randn(100)\n",
    "    Y = centers[i, 1] + radius[1] * np.random.randn(100)\n",
    "    U = (X + Y) * sqrt(2) / 2\n",
    "    V = (X - Y) * sqrt(2) / 2\n",
    "    synthetics = np.concatenate([synthetics, np.vstack((U, V)).T])\n",
    "plt.plot(synthetics[:,0], synthetics[:,1], 'ko')\n",
    "plt.xlim(1, 9)\n",
    "plt.ylim(-6, 3)"
   ]
  },
  {
   "cell_type": "markdown",
   "metadata": {},
   "source": [
    "Let us now do k-means clustering with 3 clusters."
   ]
  },
  {
   "cell_type": "code",
   "execution_count": null,
   "metadata": {},
   "outputs": [],
   "source": [
    "random.seed(0)\n",
    "(clusters, objective, centers) = my_kmeans(synthetics, 3)\n",
    "plt.scatter(synthetics[:,0], synthetics[:,1], c=clusters)"
   ]
  },
  {
   "cell_type": "markdown",
   "metadata": {},
   "source": [
    "What happens if we apply PCA + normalization before the clustering?"
   ]
  },
  {
   "cell_type": "code",
   "execution_count": null,
   "metadata": {},
   "outputs": [],
   "source": [
    "pca = PCA(n_components=2)\n",
    "synthetics_pca = pca.fit_transform(synthetics)"
   ]
  },
  {
   "cell_type": "code",
   "execution_count": null,
   "metadata": {},
   "outputs": [],
   "source": [
    "scaler = preprocessing.StandardScaler().fit(synthetics_pca)\n",
    "synthetics_scaled = scaler.transform(synthetics_pca)"
   ]
  },
  {
   "cell_type": "code",
   "execution_count": null,
   "metadata": {},
   "outputs": [],
   "source": [
    "(clusters, objective, centers) = kmeans_pp(synthetics_scaled, 3)\n",
    "plt.scatter(synthetics[:,0], synthetics[:,1], c=clusters)"
   ]
  }
 ],
 "metadata": {
  "kernelspec": {
   "display_name": "Python 3.9.13 ('mlgeo_sk')",
   "language": "python",
   "name": "python3"
  },
  "language_info": {
   "codemirror_mode": {
    "name": "ipython",
    "version": 3
   },
   "file_extension": ".py",
   "mimetype": "text/x-python",
   "name": "python",
   "nbconvert_exporter": "python",
   "pygments_lexer": "ipython3",
   "version": "3.9.13"
  },
  "vscode": {
   "interpreter": {
    "hash": "a6825af05e3ea1f79f5651bdd3095330bdaee3a1e3958825bcb0ebbb42c21bf2"
   }
  }
 },
 "nbformat": 4,
 "nbformat_minor": 4
}
